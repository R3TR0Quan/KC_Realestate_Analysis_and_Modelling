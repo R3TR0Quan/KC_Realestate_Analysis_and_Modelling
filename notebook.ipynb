{
 "cells": [
  {
   "cell_type": "markdown",
   "id": "5e205c33",
   "metadata": {},
   "source": [
    "# King County Realestate Analysis and Modelling."
   ]
  },
  {
   "cell_type": "markdown",
   "id": "5069172c",
   "metadata": {},
   "source": [
    "## Business Problem"
   ]
  },
  {
   "cell_type": "markdown",
   "id": "09f97091",
   "metadata": {},
   "source": [
    "##  Introduction\n",
    "The realestate business has for a long time been of great interest to investors. Any party interested in investing in the realestate business will undoubtedly benefit from prior analysis of already existing data on the state of the market in order to minimize risk and maximize ROI. \n",
    "We got data from various sources such as the `kc_house_data.csv` file from Kaggle that we are going to perform anlysis and modelling on.\n",
    "\n",
    "### Stakeholders Name: ALPHA TENNENT"
   ]
  },
  {
   "cell_type": "markdown",
   "id": "06ea710e",
   "metadata": {},
   "source": [
    "## 1. Project Overview\n",
    "in our analysis, we explored the data provided by Alpha Tennent Stakeholders and build a multiple linear regression model with some of the features stipulated in the dataset. Hencefourth, the analaysis done and the results came to a solution and on the following factors that have a significant impact on the price of the King County Dataset:\n",
    "\n",
    "* Have a house by the waterfront\n",
    "* Increase the number of bathrooms as the number of bedrooms increases\n",
    "* Improve the overall grade of the home\n",
    "* Strive to maintain the house to ensure that its in good condition\n",
    "* Increase the number of floors and the size of the basement"
   ]
  },
  {
   "cell_type": "markdown",
   "id": "8cab6a97",
   "metadata": {},
   "source": [
    "### 1.1 Problem Statement\n",
    "We will be reviewing building grade, square-footage of living space, and location-related factors such as proximity to schools, coffee shops, parks, and scientology churches to determine which factors are highly correlated with home sale prices."
   ]
  },
  {
   "cell_type": "markdown",
   "id": "a9b454a8",
   "metadata": {},
   "source": [
    "### 1.2 Objective"
   ]
  },
  {
   "cell_type": "markdown",
   "id": "2adccd61",
   "metadata": {},
   "source": [
    "#### Main Objective\n",
    "The main objective is to come up with a predictive /accurate model that is an improvement of the baseline model for better house price prediction in King County."
   ]
  },
  {
   "cell_type": "markdown",
   "id": "b20ca6fa",
   "metadata": {},
   "source": [
    "#### Specific Objectives\n",
    "- To find out how renovation status affects sale price?\n",
    "- To determine whether how the number of bedrooms is related to the pricing of the house?\n",
    "- To determine if the floor number affects the pricing of the house?\n",
    "- To relate the year built affects/ is related to the house pricing?\n",
    "- To find whether the condition of the house is related to the house pricing?"
   ]
  },
  {
   "cell_type": "markdown",
   "id": "9596a19f",
   "metadata": {},
   "source": [
    "### 1.3 Experimental Design Taken.\n",
    "Implement changes as we go on with the project\n",
    "\n",
    "This phase is broken down into four tasks together with its projected outcome or output in detail:\n",
    "\n",
    "Collect Initial Data\n",
    "Describe Data\n",
    "Explore Data\n",
    "Verify Data Quality\n",
    "There was no need to collect any data for this project as it was already provided by the stakeholder. The data consists of house data from King County and is in .csv format."
   ]
  },
  {
   "cell_type": "markdown",
   "id": "59e7e626",
   "metadata": {},
   "source": [
    "## 2. Data Wrangling and Understanding"
   ]
  },
  {
   "cell_type": "markdown",
   "id": "9088698c",
   "metadata": {},
   "source": [
    "### 2.1 Columns Descriptions\n",
    "\n",
    "The main dataset we are using comes from the King County housing [dataset](https://www.kaggle.com/datasets/harlfoxem/housesalesprediction) that contains information on house sales between May 2014 and May 2015 consist of the following variables:\n",
    "\n",
    "- date: Date of house sale\n",
    "- price: The price which the house sold for\n",
    "- bedrooms: How many bedrooms the house has\n",
    "- bathrooms: How many bathrooms the house has\n",
    "- sqft_living: How much square footage the house has\n",
    "- sqft_lot: How much square footage the lot has\n",
    "- floors: How many floors the house has\n",
    "- waterfront: Whether the house is on the - - - - waterfront. Originally contained ‘YES’ or ‘NO’, converted to 0 or 1 for comparative purposes\n",
    "- view: Whether the house has a view and whether it’s fair, average, good, or excellent. Converted to numberical (0-4) for comparative purposes\n",
    "- condition: overall condition of the house: Poor, Fair, Average, Good, Very Good\n",
    "- grade: Numerical grading for house\n",
    "sqft_above: How much of the houses square footage is above ground\n",
    "- sqft_basement: How much of the square footage is in the basement\n",
    "- yr_built: Year the house was built\n",
    "- yr_renovated: Year the house was renovated, if applicable\n",
    "- zipcode: House zipcode\n",
    "- lat: House’s latitude coordinate\n",
    "- long: House’s longitude coordinate\n",
    "- sqft_living15: Average size of living space for the closest 15 houses\n",
    "- sqft_lot15: Average size of lot for the - - closest 15 houses"
   ]
  },
  {
   "cell_type": "code",
   "execution_count": 135,
   "id": "80f1def1",
   "metadata": {},
   "outputs": [],
   "source": [
    "#importing the main libraries\n",
    "import pandas as pd\n",
    "import numpy as np\n",
    "from matplotlib import pyplot as plt\n",
    "import seaborn as sns\n",
    "\n",
    "%matplotlib inline\n",
    "plt.style.use('ggplot')"
   ]
  },
  {
   "cell_type": "code",
   "execution_count": 136,
   "id": "bd24b930",
   "metadata": {},
   "outputs": [],
   "source": [
    "#import main data file\n",
    "kc_hses = pd.read_csv('data/kc_house_data.csv')"
   ]
  },
  {
   "cell_type": "code",
   "execution_count": 137,
   "id": "630f901e",
   "metadata": {},
   "outputs": [
    {
     "name": "stdout",
     "output_type": "stream",
     "text": [
      "Index(['id', 'date', 'price', 'bedrooms', 'bathrooms', 'sqft_living',\n",
      "       'sqft_lot', 'floors', 'waterfront', 'view', 'condition', 'grade',\n",
      "       'sqft_above', 'sqft_basement', 'yr_built', 'yr_renovated', 'zipcode',\n",
      "       'lat', 'long', 'sqft_living15', 'sqft_lot15'],\n",
      "      dtype='object')\n"
     ]
    }
   ],
   "source": [
    "print(kc_hses.columns)"
   ]
  },
  {
   "cell_type": "code",
   "execution_count": 138,
   "id": "5d166f9a",
   "metadata": {},
   "outputs": [
    {
     "data": {
      "text/html": [
       "<div>\n",
       "<style scoped>\n",
       "    .dataframe tbody tr th:only-of-type {\n",
       "        vertical-align: middle;\n",
       "    }\n",
       "\n",
       "    .dataframe tbody tr th {\n",
       "        vertical-align: top;\n",
       "    }\n",
       "\n",
       "    .dataframe thead th {\n",
       "        text-align: right;\n",
       "    }\n",
       "</style>\n",
       "<table border=\"1\" class=\"dataframe\">\n",
       "  <thead>\n",
       "    <tr style=\"text-align: right;\">\n",
       "      <th></th>\n",
       "      <th>id</th>\n",
       "      <th>date</th>\n",
       "      <th>price</th>\n",
       "      <th>bedrooms</th>\n",
       "      <th>bathrooms</th>\n",
       "      <th>sqft_living</th>\n",
       "      <th>sqft_lot</th>\n",
       "      <th>floors</th>\n",
       "      <th>waterfront</th>\n",
       "      <th>view</th>\n",
       "      <th>...</th>\n",
       "      <th>grade</th>\n",
       "      <th>sqft_above</th>\n",
       "      <th>sqft_basement</th>\n",
       "      <th>yr_built</th>\n",
       "      <th>yr_renovated</th>\n",
       "      <th>zipcode</th>\n",
       "      <th>lat</th>\n",
       "      <th>long</th>\n",
       "      <th>sqft_living15</th>\n",
       "      <th>sqft_lot15</th>\n",
       "    </tr>\n",
       "  </thead>\n",
       "  <tbody>\n",
       "    <tr>\n",
       "      <th>0</th>\n",
       "      <td>7129300520</td>\n",
       "      <td>10/13/2014</td>\n",
       "      <td>221900.0</td>\n",
       "      <td>3</td>\n",
       "      <td>1.00</td>\n",
       "      <td>1180</td>\n",
       "      <td>5650</td>\n",
       "      <td>1.0</td>\n",
       "      <td>NaN</td>\n",
       "      <td>NONE</td>\n",
       "      <td>...</td>\n",
       "      <td>7 Average</td>\n",
       "      <td>1180</td>\n",
       "      <td>0.0</td>\n",
       "      <td>1955</td>\n",
       "      <td>0.0</td>\n",
       "      <td>98178</td>\n",
       "      <td>47.5112</td>\n",
       "      <td>-122.257</td>\n",
       "      <td>1340</td>\n",
       "      <td>5650</td>\n",
       "    </tr>\n",
       "    <tr>\n",
       "      <th>1</th>\n",
       "      <td>6414100192</td>\n",
       "      <td>12/9/2014</td>\n",
       "      <td>538000.0</td>\n",
       "      <td>3</td>\n",
       "      <td>2.25</td>\n",
       "      <td>2570</td>\n",
       "      <td>7242</td>\n",
       "      <td>2.0</td>\n",
       "      <td>NO</td>\n",
       "      <td>NONE</td>\n",
       "      <td>...</td>\n",
       "      <td>7 Average</td>\n",
       "      <td>2170</td>\n",
       "      <td>400.0</td>\n",
       "      <td>1951</td>\n",
       "      <td>1991.0</td>\n",
       "      <td>98125</td>\n",
       "      <td>47.7210</td>\n",
       "      <td>-122.319</td>\n",
       "      <td>1690</td>\n",
       "      <td>7639</td>\n",
       "    </tr>\n",
       "    <tr>\n",
       "      <th>2</th>\n",
       "      <td>5631500400</td>\n",
       "      <td>2/25/2015</td>\n",
       "      <td>180000.0</td>\n",
       "      <td>2</td>\n",
       "      <td>1.00</td>\n",
       "      <td>770</td>\n",
       "      <td>10000</td>\n",
       "      <td>1.0</td>\n",
       "      <td>NO</td>\n",
       "      <td>NONE</td>\n",
       "      <td>...</td>\n",
       "      <td>6 Low Average</td>\n",
       "      <td>770</td>\n",
       "      <td>0.0</td>\n",
       "      <td>1933</td>\n",
       "      <td>NaN</td>\n",
       "      <td>98028</td>\n",
       "      <td>47.7379</td>\n",
       "      <td>-122.233</td>\n",
       "      <td>2720</td>\n",
       "      <td>8062</td>\n",
       "    </tr>\n",
       "    <tr>\n",
       "      <th>3</th>\n",
       "      <td>2487200875</td>\n",
       "      <td>12/9/2014</td>\n",
       "      <td>604000.0</td>\n",
       "      <td>4</td>\n",
       "      <td>3.00</td>\n",
       "      <td>1960</td>\n",
       "      <td>5000</td>\n",
       "      <td>1.0</td>\n",
       "      <td>NO</td>\n",
       "      <td>NONE</td>\n",
       "      <td>...</td>\n",
       "      <td>7 Average</td>\n",
       "      <td>1050</td>\n",
       "      <td>910.0</td>\n",
       "      <td>1965</td>\n",
       "      <td>0.0</td>\n",
       "      <td>98136</td>\n",
       "      <td>47.5208</td>\n",
       "      <td>-122.393</td>\n",
       "      <td>1360</td>\n",
       "      <td>5000</td>\n",
       "    </tr>\n",
       "    <tr>\n",
       "      <th>4</th>\n",
       "      <td>1954400510</td>\n",
       "      <td>2/18/2015</td>\n",
       "      <td>510000.0</td>\n",
       "      <td>3</td>\n",
       "      <td>2.00</td>\n",
       "      <td>1680</td>\n",
       "      <td>8080</td>\n",
       "      <td>1.0</td>\n",
       "      <td>NO</td>\n",
       "      <td>NONE</td>\n",
       "      <td>...</td>\n",
       "      <td>8 Good</td>\n",
       "      <td>1680</td>\n",
       "      <td>0.0</td>\n",
       "      <td>1987</td>\n",
       "      <td>0.0</td>\n",
       "      <td>98074</td>\n",
       "      <td>47.6168</td>\n",
       "      <td>-122.045</td>\n",
       "      <td>1800</td>\n",
       "      <td>7503</td>\n",
       "    </tr>\n",
       "  </tbody>\n",
       "</table>\n",
       "<p>5 rows × 21 columns</p>\n",
       "</div>"
      ],
      "text/plain": [
       "           id        date     price  bedrooms  bathrooms  sqft_living  \\\n",
       "0  7129300520  10/13/2014  221900.0         3       1.00         1180   \n",
       "1  6414100192   12/9/2014  538000.0         3       2.25         2570   \n",
       "2  5631500400   2/25/2015  180000.0         2       1.00          770   \n",
       "3  2487200875   12/9/2014  604000.0         4       3.00         1960   \n",
       "4  1954400510   2/18/2015  510000.0         3       2.00         1680   \n",
       "\n",
       "   sqft_lot  floors waterfront  view  ...          grade sqft_above  \\\n",
       "0      5650     1.0        NaN  NONE  ...      7 Average       1180   \n",
       "1      7242     2.0         NO  NONE  ...      7 Average       2170   \n",
       "2     10000     1.0         NO  NONE  ...  6 Low Average        770   \n",
       "3      5000     1.0         NO  NONE  ...      7 Average       1050   \n",
       "4      8080     1.0         NO  NONE  ...         8 Good       1680   \n",
       "\n",
       "   sqft_basement yr_built  yr_renovated  zipcode      lat     long  \\\n",
       "0            0.0     1955           0.0    98178  47.5112 -122.257   \n",
       "1          400.0     1951        1991.0    98125  47.7210 -122.319   \n",
       "2            0.0     1933           NaN    98028  47.7379 -122.233   \n",
       "3          910.0     1965           0.0    98136  47.5208 -122.393   \n",
       "4            0.0     1987           0.0    98074  47.6168 -122.045   \n",
       "\n",
       "   sqft_living15  sqft_lot15  \n",
       "0           1340        5650  \n",
       "1           1690        7639  \n",
       "2           2720        8062  \n",
       "3           1360        5000  \n",
       "4           1800        7503  \n",
       "\n",
       "[5 rows x 21 columns]"
      ]
     },
     "execution_count": 138,
     "metadata": {},
     "output_type": "execute_result"
    }
   ],
   "source": [
    "kc_hses.head()"
   ]
  },
  {
   "cell_type": "markdown",
   "id": "fc3aaf2f",
   "metadata": {},
   "source": [
    "### 2.2  Data Munging"
   ]
  },
  {
   "cell_type": "code",
   "execution_count": 139,
   "id": "2890e17b",
   "metadata": {},
   "outputs": [
    {
     "name": "stdout",
     "output_type": "stream",
     "text": [
      "<class 'pandas.core.frame.DataFrame'>\n",
      "RangeIndex: 21597 entries, 0 to 21596\n",
      "Data columns (total 16 columns):\n",
      " #   Column         Non-Null Count  Dtype  \n",
      "---  ------         --------------  -----  \n",
      " 0   id             21597 non-null  int64  \n",
      " 1   price          21597 non-null  float64\n",
      " 2   bedrooms       21597 non-null  int64  \n",
      " 3   bathrooms      21597 non-null  float64\n",
      " 4   sqft_living    21597 non-null  int64  \n",
      " 5   sqft_lot       21597 non-null  int64  \n",
      " 6   floors         21597 non-null  float64\n",
      " 7   waterfront     19221 non-null  object \n",
      " 8   view           21534 non-null  object \n",
      " 9   condition      21597 non-null  object \n",
      " 10  grade          21597 non-null  object \n",
      " 11  sqft_above     21597 non-null  int64  \n",
      " 12  sqft_basement  21597 non-null  object \n",
      " 13  yr_built       21597 non-null  int64  \n",
      " 14  yr_renovated   17755 non-null  float64\n",
      " 15  zipcode        21597 non-null  int64  \n",
      "dtypes: float64(4), int64(7), object(5)\n",
      "memory usage: 2.6+ MB\n"
     ]
    }
   ],
   "source": [
    "#drop 'id' and 'date'\n",
    "cols_to_drop = ['date', 'lat', 'long', 'sqft_living15', 'sqft_lot15']\n",
    "kc_hses.drop(cols_to_drop, axis=1, inplace=True)\n",
    "kc_hses.info()"
   ]
  },
  {
   "cell_type": "markdown",
   "id": "8da49848",
   "metadata": {},
   "source": [
    "The `bathrooms` feature seems to contain **float** values which shouldnt be the case. Lets attempt to normalize them by rounding. "
   ]
  },
  {
   "cell_type": "code",
   "execution_count": 140,
   "id": "f29b3f77",
   "metadata": {},
   "outputs": [],
   "source": [
    "#normalize 'bathrooms' column\n",
    "kc_hses['bathrooms'] = kc_hses['bathrooms'].apply(lambda x: int(round(x, 0)))"
   ]
  },
  {
   "cell_type": "markdown",
   "id": "04f676b3",
   "metadata": {},
   "source": [
    "### 2.2 Univatiate analysis"
   ]
  },
  {
   "cell_type": "code",
   "execution_count": 141,
   "id": "7a4bb08d",
   "metadata": {},
   "outputs": [
    {
     "name": "stderr",
     "output_type": "stream",
     "text": [
      "/home/josh/anaconda3/envs/learn-env/lib/python3.8/site-packages/seaborn/distributions.py:2551: FutureWarning: `distplot` is a deprecated function and will be removed in a future version. Please adapt your code to use either `displot` (a figure-level function with similar flexibility) or `histplot` (an axes-level function for histograms).\n",
      "  warnings.warn(msg, FutureWarning)\n"
     ]
    },
    {
     "data": {
      "image/png": "[encoded data removed]",
      "text/plain": [
       "<Figure size 432x288 with 1 Axes>"
      ]
     },
     "metadata": {},
     "output_type": "display_data"
    }
   ],
   "source": [
    "#Visualize price\n",
    "sns.distplot(kc_hses['price'], kde=True)\n",
    "plt.show();"
   ]
  },
  {
   "cell_type": "markdown",
   "id": "577a3625",
   "metadata": {},
   "source": [
    "Price is normally distributed although skewed to the right. There may be outliers causing the skew. In the context of realestate these outliers may be valid and may not warrant dropping."
   ]
  },
  {
   "cell_type": "code",
   "execution_count": 142,
   "id": "a0dc9690",
   "metadata": {},
   "outputs": [
    {
     "data": {
      "text/plain": [
       "id               21420\n",
       "price             3622\n",
       "bedrooms            12\n",
       "bathrooms            9\n",
       "sqft_living       1034\n",
       "sqft_lot          9776\n",
       "floors               6\n",
       "waterfront           2\n",
       "view                 5\n",
       "condition            5\n",
       "grade               11\n",
       "sqft_above         942\n",
       "sqft_basement      304\n",
       "yr_built           116\n",
       "yr_renovated        70\n",
       "zipcode             70\n",
       "dtype: int64"
      ]
     },
     "execution_count": 142,
     "metadata": {},
     "output_type": "execute_result"
    }
   ],
   "source": [
    "kc_hses.nunique()"
   ]
  },
  {
   "cell_type": "code",
   "execution_count": 143,
   "id": "d4f26da2",
   "metadata": {},
   "outputs": [
    {
     "data": {
      "text/plain": [
       "2    13847\n",
       "1     3931\n",
       "3     2527\n",
       "4     1201\n",
       "5       57\n",
       "6       24\n",
       "8        4\n",
       "0        4\n",
       "7        2\n",
       "Name: bathrooms, dtype: int64"
      ]
     },
     "execution_count": 143,
     "metadata": {},
     "output_type": "execute_result"
    }
   ],
   "source": [
    "kc_hses['bathrooms'].value_counts()"
   ]
  },
  {
   "cell_type": "code",
   "execution_count": 144,
   "id": "34af9fc7",
   "metadata": {},
   "outputs": [
    {
     "data": {
      "image/png": "[encoded data removed]",
      "text/plain": [
       "<Figure size 432x288 with 1 Axes>"
      ]
     },
     "metadata": {},
     "output_type": "display_data"
    }
   ],
   "source": [
    "#plot bathrooms distribution\n",
    "sns.histplot(kc_hses['bathrooms'], kde=False, color='purple')\n",
    "plt.show();"
   ]
  },
  {
   "cell_type": "markdown",
   "id": "8cf6c2cc",
   "metadata": {},
   "source": [
    "Most properties seem to have 2 bathrooms on average. The kde function seems to look a bit strange owing to `bathrooms` beign a categorical feature."
   ]
  },
  {
   "cell_type": "code",
   "execution_count": 145,
   "id": "e37df573",
   "metadata": {},
   "outputs": [
    {
     "data": {
      "image/png": "[encoded data removed]",
      "text/plain": [
       "<Figure size 432x288 with 1 Axes>"
      ]
     },
     "metadata": {},
     "output_type": "display_data"
    }
   ],
   "source": [
    "#plot bar of bathrooms against price\n",
    "kc_hses.groupby('bathrooms')['price'].mean().plot.bar(x='bathrooms', label='Avg price')\n",
    "plt.legend()\n",
    "plt.show()"
   ]
  },
  {
   "cell_type": "code",
   "execution_count": 146,
   "id": "e1815c85",
   "metadata": {},
   "outputs": [
    {
     "data": {
      "image/png": "[encoded data removed]",
      "text/plain": [
       "<Figure size 967.875x180 with 6 Axes>"
      ]
     },
     "metadata": {},
     "output_type": "display_data"
    }
   ],
   "source": [
    "#plot scatterplots \n",
    "xvars = ['price', 'bathrooms', 'sqft_living', 'sqft_above', 'floors']\n",
    "yvars = ['price']\n",
    "sns.pairplot(kc_hses, x_vars=xvars, y_vars=yvars, hue='zipcode')\n",
    "plt.show();"
   ]
  },
  {
   "cell_type": "markdown",
   "id": "c2ec6490",
   "metadata": {},
   "source": [
    "- `bathrooms` and `floors` are categorical features. We can use **One-Hot Encoding** to transform our model based on these features.\n",
    "- `sqft-living` and `sqft_above` seem to have a linear relationship with `price`"
   ]
  },
  {
   "cell_type": "code",
   "execution_count": 147,
   "id": "8168ff64",
   "metadata": {},
   "outputs": [
    {
     "data": {
      "text/html": [
       "<style  type=\"text/css\" >\n",
       "#T_4ea9d710_ddb7_11ed_9f26_9c7bef1bc6c1row0_col0,#T_4ea9d710_ddb7_11ed_9f26_9c7bef1bc6c1row1_col1,#T_4ea9d710_ddb7_11ed_9f26_9c7bef1bc6c1row2_col2,#T_4ea9d710_ddb7_11ed_9f26_9c7bef1bc6c1row3_col3,#T_4ea9d710_ddb7_11ed_9f26_9c7bef1bc6c1row4_col4,#T_4ea9d710_ddb7_11ed_9f26_9c7bef1bc6c1row5_col5,#T_4ea9d710_ddb7_11ed_9f26_9c7bef1bc6c1row6_col6,#T_4ea9d710_ddb7_11ed_9f26_9c7bef1bc6c1row7_col7,#T_4ea9d710_ddb7_11ed_9f26_9c7bef1bc6c1row8_col8,#T_4ea9d710_ddb7_11ed_9f26_9c7bef1bc6c1row9_col9,#T_4ea9d710_ddb7_11ed_9f26_9c7bef1bc6c1row10_col10{\n",
       "            background-color:  #b40426;\n",
       "            color:  #f1f1f1;\n",
       "        }#T_4ea9d710_ddb7_11ed_9f26_9c7bef1bc6c1row0_col1{\n",
       "            background-color:  #445acc;\n",
       "            color:  #f1f1f1;\n",
       "        }#T_4ea9d710_ddb7_11ed_9f26_9c7bef1bc6c1row0_col2,#T_4ea9d710_ddb7_11ed_9f26_9c7bef1bc6c1row5_col1,#T_4ea9d710_ddb7_11ed_9f26_9c7bef1bc6c1row6_col0,#T_4ea9d710_ddb7_11ed_9f26_9c7bef1bc6c1row8_col0{\n",
       "            background-color:  #6485ec;\n",
       "            color:  #000000;\n",
       "        }#T_4ea9d710_ddb7_11ed_9f26_9c7bef1bc6c1row0_col3{\n",
       "            background-color:  #6180e9;\n",
       "            color:  #000000;\n",
       "        }#T_4ea9d710_ddb7_11ed_9f26_9c7bef1bc6c1row0_col4{\n",
       "            background-color:  #6c8ff1;\n",
       "            color:  #000000;\n",
       "        }#T_4ea9d710_ddb7_11ed_9f26_9c7bef1bc6c1row0_col5,#T_4ea9d710_ddb7_11ed_9f26_9c7bef1bc6c1row5_col0,#T_4ea9d710_ddb7_11ed_9f26_9c7bef1bc6c1row8_col9,#T_4ea9d710_ddb7_11ed_9f26_9c7bef1bc6c1row8_col10,#T_4ea9d710_ddb7_11ed_9f26_9c7bef1bc6c1row10_col1,#T_4ea9d710_ddb7_11ed_9f26_9c7bef1bc6c1row10_col2,#T_4ea9d710_ddb7_11ed_9f26_9c7bef1bc6c1row10_col3,#T_4ea9d710_ddb7_11ed_9f26_9c7bef1bc6c1row10_col4,#T_4ea9d710_ddb7_11ed_9f26_9c7bef1bc6c1row10_col5,#T_4ea9d710_ddb7_11ed_9f26_9c7bef1bc6c1row10_col6,#T_4ea9d710_ddb7_11ed_9f26_9c7bef1bc6c1row10_col7,#T_4ea9d710_ddb7_11ed_9f26_9c7bef1bc6c1row10_col8{\n",
       "            background-color:  #3b4cc0;\n",
       "            color:  #f1f1f1;\n",
       "        }#T_4ea9d710_ddb7_11ed_9f26_9c7bef1bc6c1row0_col6{\n",
       "            background-color:  #506bda;\n",
       "            color:  #000000;\n",
       "        }#T_4ea9d710_ddb7_11ed_9f26_9c7bef1bc6c1row0_col7,#T_4ea9d710_ddb7_11ed_9f26_9c7bef1bc6c1row1_col5,#T_4ea9d710_ddb7_11ed_9f26_9c7bef1bc6c1row2_col9,#T_4ea9d710_ddb7_11ed_9f26_9c7bef1bc6c1row3_col5{\n",
       "            background-color:  #7a9df8;\n",
       "            color:  #000000;\n",
       "        }#T_4ea9d710_ddb7_11ed_9f26_9c7bef1bc6c1row0_col8{\n",
       "            background-color:  #96b7ff;\n",
       "            color:  #000000;\n",
       "        }#T_4ea9d710_ddb7_11ed_9f26_9c7bef1bc6c1row0_col9,#T_4ea9d710_ddb7_11ed_9f26_9c7bef1bc6c1row9_col1{\n",
       "            background-color:  #7295f4;\n",
       "            color:  #000000;\n",
       "        }#T_4ea9d710_ddb7_11ed_9f26_9c7bef1bc6c1row0_col10{\n",
       "            background-color:  #8db0fe;\n",
       "            color:  #000000;\n",
       "        }#T_4ea9d710_ddb7_11ed_9f26_9c7bef1bc6c1row1_col0,#T_4ea9d710_ddb7_11ed_9f26_9c7bef1bc6c1row8_col1{\n",
       "            background-color:  #5a78e4;\n",
       "            color:  #000000;\n",
       "        }#T_4ea9d710_ddb7_11ed_9f26_9c7bef1bc6c1row1_col2{\n",
       "            background-color:  #c0d4f5;\n",
       "            color:  #000000;\n",
       "        }#T_4ea9d710_ddb7_11ed_9f26_9c7bef1bc6c1row1_col3{\n",
       "            background-color:  #efcfbf;\n",
       "            color:  #000000;\n",
       "        }#T_4ea9d710_ddb7_11ed_9f26_9c7bef1bc6c1row1_col4,#T_4ea9d710_ddb7_11ed_9f26_9c7bef1bc6c1row3_col4{\n",
       "            background-color:  #f4987a;\n",
       "            color:  #000000;\n",
       "        }#T_4ea9d710_ddb7_11ed_9f26_9c7bef1bc6c1row1_col6,#T_4ea9d710_ddb7_11ed_9f26_9c7bef1bc6c1row1_col8,#T_4ea9d710_ddb7_11ed_9f26_9c7bef1bc6c1row5_col8{\n",
       "            background-color:  #9ebeff;\n",
       "            color:  #000000;\n",
       "        }#T_4ea9d710_ddb7_11ed_9f26_9c7bef1bc6c1row1_col7{\n",
       "            background-color:  #f7b194;\n",
       "            color:  #000000;\n",
       "        }#T_4ea9d710_ddb7_11ed_9f26_9c7bef1bc6c1row1_col9{\n",
       "            background-color:  #9bbcff;\n",
       "            color:  #000000;\n",
       "        }#T_4ea9d710_ddb7_11ed_9f26_9c7bef1bc6c1row1_col10{\n",
       "            background-color:  #81a4fb;\n",
       "            color:  #000000;\n",
       "        }#T_4ea9d710_ddb7_11ed_9f26_9c7bef1bc6c1row2_col0,#T_4ea9d710_ddb7_11ed_9f26_9c7bef1bc6c1row9_col5{\n",
       "            background-color:  #5f7fe8;\n",
       "            color:  #000000;\n",
       "        }#T_4ea9d710_ddb7_11ed_9f26_9c7bef1bc6c1row2_col1{\n",
       "            background-color:  #aec9fc;\n",
       "            color:  #000000;\n",
       "        }#T_4ea9d710_ddb7_11ed_9f26_9c7bef1bc6c1row2_col3{\n",
       "            background-color:  #ead5c9;\n",
       "            color:  #000000;\n",
       "        }#T_4ea9d710_ddb7_11ed_9f26_9c7bef1bc6c1row2_col4,#T_4ea9d710_ddb7_11ed_9f26_9c7bef1bc6c1row7_col3{\n",
       "            background-color:  #f6bda2;\n",
       "            color:  #000000;\n",
       "        }#T_4ea9d710_ddb7_11ed_9f26_9c7bef1bc6c1row2_col5{\n",
       "            background-color:  #688aef;\n",
       "            color:  #000000;\n",
       "        }#T_4ea9d710_ddb7_11ed_9f26_9c7bef1bc6c1row2_col6,#T_4ea9d710_ddb7_11ed_9f26_9c7bef1bc6c1row9_col7{\n",
       "            background-color:  #84a7fc;\n",
       "            color:  #000000;\n",
       "        }#T_4ea9d710_ddb7_11ed_9f26_9c7bef1bc6c1row2_col7{\n",
       "            background-color:  #f0cdbb;\n",
       "            color:  #000000;\n",
       "        }#T_4ea9d710_ddb7_11ed_9f26_9c7bef1bc6c1row2_col8{\n",
       "            background-color:  #b7cff9;\n",
       "            color:  #000000;\n",
       "        }#T_4ea9d710_ddb7_11ed_9f26_9c7bef1bc6c1row2_col10{\n",
       "            background-color:  #6788ee;\n",
       "            color:  #000000;\n",
       "        }#T_4ea9d710_ddb7_11ed_9f26_9c7bef1bc6c1row3_col0,#T_4ea9d710_ddb7_11ed_9f26_9c7bef1bc6c1row4_col10,#T_4ea9d710_ddb7_11ed_9f26_9c7bef1bc6c1row6_col5{\n",
       "            background-color:  #5d7ce6;\n",
       "            color:  #000000;\n",
       "        }#T_4ea9d710_ddb7_11ed_9f26_9c7bef1bc6c1row3_col1,#T_4ea9d710_ddb7_11ed_9f26_9c7bef1bc6c1row8_col7{\n",
       "            background-color:  #e8d6cc;\n",
       "            color:  #000000;\n",
       "        }#T_4ea9d710_ddb7_11ed_9f26_9c7bef1bc6c1row3_col2{\n",
       "            background-color:  #ead4c8;\n",
       "            color:  #000000;\n",
       "        }#T_4ea9d710_ddb7_11ed_9f26_9c7bef1bc6c1row3_col6{\n",
       "            background-color:  #c1d4f4;\n",
       "            color:  #000000;\n",
       "        }#T_4ea9d710_ddb7_11ed_9f26_9c7bef1bc6c1row3_col7{\n",
       "            background-color:  #f7b396;\n",
       "            color:  #000000;\n",
       "        }#T_4ea9d710_ddb7_11ed_9f26_9c7bef1bc6c1row3_col8{\n",
       "            background-color:  #e6d7cf;\n",
       "            color:  #000000;\n",
       "        }#T_4ea9d710_ddb7_11ed_9f26_9c7bef1bc6c1row3_col9,#T_4ea9d710_ddb7_11ed_9f26_9c7bef1bc6c1row10_col9{\n",
       "            background-color:  #89acfd;\n",
       "            color:  #000000;\n",
       "        }#T_4ea9d710_ddb7_11ed_9f26_9c7bef1bc6c1row3_col10,#T_4ea9d710_ddb7_11ed_9f26_9c7bef1bc6c1row9_col2{\n",
       "            background-color:  #6a8bef;\n",
       "            color:  #000000;\n",
       "        }#T_4ea9d710_ddb7_11ed_9f26_9c7bef1bc6c1row4_col0,#T_4ea9d710_ddb7_11ed_9f26_9c7bef1bc6c1row7_col0,#T_4ea9d710_ddb7_11ed_9f26_9c7bef1bc6c1row9_col0,#T_4ea9d710_ddb7_11ed_9f26_9c7bef1bc6c1row10_col0{\n",
       "            background-color:  #5b7ae5;\n",
       "            color:  #000000;\n",
       "        }#T_4ea9d710_ddb7_11ed_9f26_9c7bef1bc6c1row4_col1{\n",
       "            background-color:  #f7a688;\n",
       "            color:  #000000;\n",
       "        }#T_4ea9d710_ddb7_11ed_9f26_9c7bef1bc6c1row4_col2{\n",
       "            background-color:  #f5c1a9;\n",
       "            color:  #000000;\n",
       "        }#T_4ea9d710_ddb7_11ed_9f26_9c7bef1bc6c1row4_col3{\n",
       "            background-color:  #f59d7e;\n",
       "            color:  #000000;\n",
       "        }#T_4ea9d710_ddb7_11ed_9f26_9c7bef1bc6c1row4_col5{\n",
       "            background-color:  #94b6ff;\n",
       "            color:  #000000;\n",
       "        }#T_4ea9d710_ddb7_11ed_9f26_9c7bef1bc6c1row4_col6{\n",
       "            background-color:  #bcd2f7;\n",
       "            color:  #000000;\n",
       "        }#T_4ea9d710_ddb7_11ed_9f26_9c7bef1bc6c1row4_col7{\n",
       "            background-color:  #d65244;\n",
       "            color:  #000000;\n",
       "        }#T_4ea9d710_ddb7_11ed_9f26_9c7bef1bc6c1row4_col8{\n",
       "            background-color:  #dbdcde;\n",
       "            color:  #000000;\n",
       "        }#T_4ea9d710_ddb7_11ed_9f26_9c7bef1bc6c1row4_col9{\n",
       "            background-color:  #85a8fc;\n",
       "            color:  #000000;\n",
       "        }#T_4ea9d710_ddb7_11ed_9f26_9c7bef1bc6c1row5_col2,#T_4ea9d710_ddb7_11ed_9f26_9c7bef1bc6c1row5_col10,#T_4ea9d710_ddb7_11ed_9f26_9c7bef1bc6c1row8_col5{\n",
       "            background-color:  #6e90f2;\n",
       "            color:  #000000;\n",
       "        }#T_4ea9d710_ddb7_11ed_9f26_9c7bef1bc6c1row5_col3{\n",
       "            background-color:  #7da0f9;\n",
       "            color:  #000000;\n",
       "        }#T_4ea9d710_ddb7_11ed_9f26_9c7bef1bc6c1row5_col4,#T_4ea9d710_ddb7_11ed_9f26_9c7bef1bc6c1row9_col10{\n",
       "            background-color:  #a2c1ff;\n",
       "            color:  #000000;\n",
       "        }#T_4ea9d710_ddb7_11ed_9f26_9c7bef1bc6c1row5_col6{\n",
       "            background-color:  #4a63d3;\n",
       "            color:  #f1f1f1;\n",
       "        }#T_4ea9d710_ddb7_11ed_9f26_9c7bef1bc6c1row5_col7{\n",
       "            background-color:  #b1cbfc;\n",
       "            color:  #000000;\n",
       "        }#T_4ea9d710_ddb7_11ed_9f26_9c7bef1bc6c1row5_col9,#T_4ea9d710_ddb7_11ed_9f26_9c7bef1bc6c1row6_col9,#T_4ea9d710_ddb7_11ed_9f26_9c7bef1bc6c1row9_col3{\n",
       "            background-color:  #7699f6;\n",
       "            color:  #000000;\n",
       "        }#T_4ea9d710_ddb7_11ed_9f26_9c7bef1bc6c1row6_col1{\n",
       "            background-color:  #9dbdff;\n",
       "            color:  #000000;\n",
       "        }#T_4ea9d710_ddb7_11ed_9f26_9c7bef1bc6c1row6_col2{\n",
       "            background-color:  #9abbff;\n",
       "            color:  #000000;\n",
       "        }#T_4ea9d710_ddb7_11ed_9f26_9c7bef1bc6c1row6_col3{\n",
       "            background-color:  #cedaeb;\n",
       "            color:  #000000;\n",
       "        }#T_4ea9d710_ddb7_11ed_9f26_9c7bef1bc6c1row6_col4{\n",
       "            background-color:  #d3dbe7;\n",
       "            color:  #000000;\n",
       "        }#T_4ea9d710_ddb7_11ed_9f26_9c7bef1bc6c1row6_col7{\n",
       "            background-color:  #f4c5ad;\n",
       "            color:  #000000;\n",
       "        }#T_4ea9d710_ddb7_11ed_9f26_9c7bef1bc6c1row6_col8{\n",
       "            background-color:  #f4c6af;\n",
       "            color:  #000000;\n",
       "        }#T_4ea9d710_ddb7_11ed_9f26_9c7bef1bc6c1row6_col10,#T_4ea9d710_ddb7_11ed_9f26_9c7bef1bc6c1row9_col4{\n",
       "            background-color:  #80a3fa;\n",
       "            color:  #000000;\n",
       "        }#T_4ea9d710_ddb7_11ed_9f26_9c7bef1bc6c1row7_col1{\n",
       "            background-color:  #f5c4ac;\n",
       "            color:  #000000;\n",
       "        }#T_4ea9d710_ddb7_11ed_9f26_9c7bef1bc6c1row7_col2,#T_4ea9d710_ddb7_11ed_9f26_9c7bef1bc6c1row7_col6{\n",
       "            background-color:  #e9d5cb;\n",
       "            color:  #000000;\n",
       "        }#T_4ea9d710_ddb7_11ed_9f26_9c7bef1bc6c1row7_col4{\n",
       "            background-color:  #d75445;\n",
       "            color:  #000000;\n",
       "        }#T_4ea9d710_ddb7_11ed_9f26_9c7bef1bc6c1row7_col5{\n",
       "            background-color:  #97b8ff;\n",
       "            color:  #000000;\n",
       "        }#T_4ea9d710_ddb7_11ed_9f26_9c7bef1bc6c1row7_col8{\n",
       "            background-color:  #edd1c2;\n",
       "            color:  #000000;\n",
       "        }#T_4ea9d710_ddb7_11ed_9f26_9c7bef1bc6c1row7_col9{\n",
       "            background-color:  #7b9ff9;\n",
       "            color:  #000000;\n",
       "        }#T_4ea9d710_ddb7_11ed_9f26_9c7bef1bc6c1row7_col10{\n",
       "            background-color:  #4e68d8;\n",
       "            color:  #000000;\n",
       "        }#T_4ea9d710_ddb7_11ed_9f26_9c7bef1bc6c1row8_col2{\n",
       "            background-color:  #93b5fe;\n",
       "            color:  #000000;\n",
       "        }#T_4ea9d710_ddb7_11ed_9f26_9c7bef1bc6c1row8_col3{\n",
       "            background-color:  #d1dae9;\n",
       "            color:  #000000;\n",
       "        }#T_4ea9d710_ddb7_11ed_9f26_9c7bef1bc6c1row8_col4{\n",
       "            background-color:  #cad8ef;\n",
       "            color:  #000000;\n",
       "        }#T_4ea9d710_ddb7_11ed_9f26_9c7bef1bc6c1row8_col6{\n",
       "            background-color:  #e1dad6;\n",
       "            color:  #000000;\n",
       "        }#T_4ea9d710_ddb7_11ed_9f26_9c7bef1bc6c1row9_col6{\n",
       "            background-color:  #4c66d6;\n",
       "            color:  #000000;\n",
       "        }#T_4ea9d710_ddb7_11ed_9f26_9c7bef1bc6c1row9_col8{\n",
       "            background-color:  #5673e0;\n",
       "            color:  #000000;\n",
       "        }</style><table id=\"T_4ea9d710_ddb7_11ed_9f26_9c7bef1bc6c1\" ><thead>    <tr>        <th class=\"blank level0\" ></th>        <th class=\"col_heading level0 col0\" >id</th>        <th class=\"col_heading level0 col1\" >price</th>        <th class=\"col_heading level0 col2\" >bedrooms</th>        <th class=\"col_heading level0 col3\" >bathrooms</th>        <th class=\"col_heading level0 col4\" >sqft_living</th>        <th class=\"col_heading level0 col5\" >sqft_lot</th>        <th class=\"col_heading level0 col6\" >floors</th>        <th class=\"col_heading level0 col7\" >sqft_above</th>        <th class=\"col_heading level0 col8\" >yr_built</th>        <th class=\"col_heading level0 col9\" >yr_renovated</th>        <th class=\"col_heading level0 col10\" >zipcode</th>    </tr></thead><tbody>\n",
       "                <tr>\n",
       "                        <th id=\"T_4ea9d710_ddb7_11ed_9f26_9c7bef1bc6c1level0_row0\" class=\"row_heading level0 row0\" >id</th>\n",
       "                        <td id=\"T_4ea9d710_ddb7_11ed_9f26_9c7bef1bc6c1row0_col0\" class=\"data row0 col0\" >1.00</td>\n",
       "                        <td id=\"T_4ea9d710_ddb7_11ed_9f26_9c7bef1bc6c1row0_col1\" class=\"data row0 col1\" >-0.02</td>\n",
       "                        <td id=\"T_4ea9d710_ddb7_11ed_9f26_9c7bef1bc6c1row0_col2\" class=\"data row0 col2\" >0.00</td>\n",
       "                        <td id=\"T_4ea9d710_ddb7_11ed_9f26_9c7bef1bc6c1row0_col3\" class=\"data row0 col3\" >-0.01</td>\n",
       "                        <td id=\"T_4ea9d710_ddb7_11ed_9f26_9c7bef1bc6c1row0_col4\" class=\"data row0 col4\" >-0.01</td>\n",
       "                        <td id=\"T_4ea9d710_ddb7_11ed_9f26_9c7bef1bc6c1row0_col5\" class=\"data row0 col5\" >-0.13</td>\n",
       "                        <td id=\"T_4ea9d710_ddb7_11ed_9f26_9c7bef1bc6c1row0_col6\" class=\"data row0 col6\" >0.02</td>\n",
       "                        <td id=\"T_4ea9d710_ddb7_11ed_9f26_9c7bef1bc6c1row0_col7\" class=\"data row0 col7\" >-0.01</td>\n",
       "                        <td id=\"T_4ea9d710_ddb7_11ed_9f26_9c7bef1bc6c1row0_col8\" class=\"data row0 col8\" >0.02</td>\n",
       "                        <td id=\"T_4ea9d710_ddb7_11ed_9f26_9c7bef1bc6c1row0_col9\" class=\"data row0 col9\" >-0.01</td>\n",
       "                        <td id=\"T_4ea9d710_ddb7_11ed_9f26_9c7bef1bc6c1row0_col10\" class=\"data row0 col10\" >-0.01</td>\n",
       "            </tr>\n",
       "            <tr>\n",
       "                        <th id=\"T_4ea9d710_ddb7_11ed_9f26_9c7bef1bc6c1level0_row1\" class=\"row_heading level0 row1\" >price</th>\n",
       "                        <td id=\"T_4ea9d710_ddb7_11ed_9f26_9c7bef1bc6c1row1_col0\" class=\"data row1 col0\" >-0.02</td>\n",
       "                        <td id=\"T_4ea9d710_ddb7_11ed_9f26_9c7bef1bc6c1row1_col1\" class=\"data row1 col1\" >1.00</td>\n",
       "                        <td id=\"T_4ea9d710_ddb7_11ed_9f26_9c7bef1bc6c1row1_col2\" class=\"data row1 col2\" >0.31</td>\n",
       "                        <td id=\"T_4ea9d710_ddb7_11ed_9f26_9c7bef1bc6c1row1_col3\" class=\"data row1 col3\" >0.52</td>\n",
       "                        <td id=\"T_4ea9d710_ddb7_11ed_9f26_9c7bef1bc6c1row1_col4\" class=\"data row1 col4\" >0.70</td>\n",
       "                        <td id=\"T_4ea9d710_ddb7_11ed_9f26_9c7bef1bc6c1row1_col5\" class=\"data row1 col5\" >0.09</td>\n",
       "                        <td id=\"T_4ea9d710_ddb7_11ed_9f26_9c7bef1bc6c1row1_col6\" class=\"data row1 col6\" >0.26</td>\n",
       "                        <td id=\"T_4ea9d710_ddb7_11ed_9f26_9c7bef1bc6c1row1_col7\" class=\"data row1 col7\" >0.61</td>\n",
       "                        <td id=\"T_4ea9d710_ddb7_11ed_9f26_9c7bef1bc6c1row1_col8\" class=\"data row1 col8\" >0.05</td>\n",
       "                        <td id=\"T_4ea9d710_ddb7_11ed_9f26_9c7bef1bc6c1row1_col9\" class=\"data row1 col9\" >0.13</td>\n",
       "                        <td id=\"T_4ea9d710_ddb7_11ed_9f26_9c7bef1bc6c1row1_col10\" class=\"data row1 col10\" >-0.05</td>\n",
       "            </tr>\n",
       "            <tr>\n",
       "                        <th id=\"T_4ea9d710_ddb7_11ed_9f26_9c7bef1bc6c1level0_row2\" class=\"row_heading level0 row2\" >bedrooms</th>\n",
       "                        <td id=\"T_4ea9d710_ddb7_11ed_9f26_9c7bef1bc6c1row2_col0\" class=\"data row2 col0\" >0.00</td>\n",
       "                        <td id=\"T_4ea9d710_ddb7_11ed_9f26_9c7bef1bc6c1row2_col1\" class=\"data row2 col1\" >0.31</td>\n",
       "                        <td id=\"T_4ea9d710_ddb7_11ed_9f26_9c7bef1bc6c1row2_col2\" class=\"data row2 col2\" >1.00</td>\n",
       "                        <td id=\"T_4ea9d710_ddb7_11ed_9f26_9c7bef1bc6c1row2_col3\" class=\"data row2 col3\" >0.49</td>\n",
       "                        <td id=\"T_4ea9d710_ddb7_11ed_9f26_9c7bef1bc6c1row2_col4\" class=\"data row2 col4\" >0.58</td>\n",
       "                        <td id=\"T_4ea9d710_ddb7_11ed_9f26_9c7bef1bc6c1row2_col5\" class=\"data row2 col5\" >0.03</td>\n",
       "                        <td id=\"T_4ea9d710_ddb7_11ed_9f26_9c7bef1bc6c1row2_col6\" class=\"data row2 col6\" >0.18</td>\n",
       "                        <td id=\"T_4ea9d710_ddb7_11ed_9f26_9c7bef1bc6c1row2_col7\" class=\"data row2 col7\" >0.48</td>\n",
       "                        <td id=\"T_4ea9d710_ddb7_11ed_9f26_9c7bef1bc6c1row2_col8\" class=\"data row2 col8\" >0.16</td>\n",
       "                        <td id=\"T_4ea9d710_ddb7_11ed_9f26_9c7bef1bc6c1row2_col9\" class=\"data row2 col9\" >0.02</td>\n",
       "                        <td id=\"T_4ea9d710_ddb7_11ed_9f26_9c7bef1bc6c1row2_col10\" class=\"data row2 col10\" >-0.15</td>\n",
       "            </tr>\n",
       "            <tr>\n",
       "                        <th id=\"T_4ea9d710_ddb7_11ed_9f26_9c7bef1bc6c1level0_row3\" class=\"row_heading level0 row3\" >bathrooms</th>\n",
       "                        <td id=\"T_4ea9d710_ddb7_11ed_9f26_9c7bef1bc6c1row3_col0\" class=\"data row3 col0\" >-0.01</td>\n",
       "                        <td id=\"T_4ea9d710_ddb7_11ed_9f26_9c7bef1bc6c1row3_col1\" class=\"data row3 col1\" >0.52</td>\n",
       "                        <td id=\"T_4ea9d710_ddb7_11ed_9f26_9c7bef1bc6c1row3_col2\" class=\"data row3 col2\" >0.49</td>\n",
       "                        <td id=\"T_4ea9d710_ddb7_11ed_9f26_9c7bef1bc6c1row3_col3\" class=\"data row3 col3\" >1.00</td>\n",
       "                        <td id=\"T_4ea9d710_ddb7_11ed_9f26_9c7bef1bc6c1row3_col4\" class=\"data row3 col4\" >0.70</td>\n",
       "                        <td id=\"T_4ea9d710_ddb7_11ed_9f26_9c7bef1bc6c1row3_col5\" class=\"data row3 col5\" >0.09</td>\n",
       "                        <td id=\"T_4ea9d710_ddb7_11ed_9f26_9c7bef1bc6c1row3_col6\" class=\"data row3 col6\" >0.37</td>\n",
       "                        <td id=\"T_4ea9d710_ddb7_11ed_9f26_9c7bef1bc6c1row3_col7\" class=\"data row3 col7\" >0.60</td>\n",
       "                        <td id=\"T_4ea9d710_ddb7_11ed_9f26_9c7bef1bc6c1row3_col8\" class=\"data row3 col8\" >0.38</td>\n",
       "                        <td id=\"T_4ea9d710_ddb7_11ed_9f26_9c7bef1bc6c1row3_col9\" class=\"data row3 col9\" >0.07</td>\n",
       "                        <td id=\"T_4ea9d710_ddb7_11ed_9f26_9c7bef1bc6c1row3_col10\" class=\"data row3 col10\" >-0.14</td>\n",
       "            </tr>\n",
       "            <tr>\n",
       "                        <th id=\"T_4ea9d710_ddb7_11ed_9f26_9c7bef1bc6c1level0_row4\" class=\"row_heading level0 row4\" >sqft_living</th>\n",
       "                        <td id=\"T_4ea9d710_ddb7_11ed_9f26_9c7bef1bc6c1row4_col0\" class=\"data row4 col0\" >-0.01</td>\n",
       "                        <td id=\"T_4ea9d710_ddb7_11ed_9f26_9c7bef1bc6c1row4_col1\" class=\"data row4 col1\" >0.70</td>\n",
       "                        <td id=\"T_4ea9d710_ddb7_11ed_9f26_9c7bef1bc6c1row4_col2\" class=\"data row4 col2\" >0.58</td>\n",
       "                        <td id=\"T_4ea9d710_ddb7_11ed_9f26_9c7bef1bc6c1row4_col3\" class=\"data row4 col3\" >0.70</td>\n",
       "                        <td id=\"T_4ea9d710_ddb7_11ed_9f26_9c7bef1bc6c1row4_col4\" class=\"data row4 col4\" >1.00</td>\n",
       "                        <td id=\"T_4ea9d710_ddb7_11ed_9f26_9c7bef1bc6c1row4_col5\" class=\"data row4 col5\" >0.17</td>\n",
       "                        <td id=\"T_4ea9d710_ddb7_11ed_9f26_9c7bef1bc6c1row4_col6\" class=\"data row4 col6\" >0.35</td>\n",
       "                        <td id=\"T_4ea9d710_ddb7_11ed_9f26_9c7bef1bc6c1row4_col7\" class=\"data row4 col7\" >0.88</td>\n",
       "                        <td id=\"T_4ea9d710_ddb7_11ed_9f26_9c7bef1bc6c1row4_col8\" class=\"data row4 col8\" >0.32</td>\n",
       "                        <td id=\"T_4ea9d710_ddb7_11ed_9f26_9c7bef1bc6c1row4_col9\" class=\"data row4 col9\" >0.06</td>\n",
       "                        <td id=\"T_4ea9d710_ddb7_11ed_9f26_9c7bef1bc6c1row4_col10\" class=\"data row4 col10\" >-0.20</td>\n",
       "            </tr>\n",
       "            <tr>\n",
       "                        <th id=\"T_4ea9d710_ddb7_11ed_9f26_9c7bef1bc6c1level0_row5\" class=\"row_heading level0 row5\" >sqft_lot</th>\n",
       "                        <td id=\"T_4ea9d710_ddb7_11ed_9f26_9c7bef1bc6c1row5_col0\" class=\"data row5 col0\" >-0.13</td>\n",
       "                        <td id=\"T_4ea9d710_ddb7_11ed_9f26_9c7bef1bc6c1row5_col1\" class=\"data row5 col1\" >0.09</td>\n",
       "                        <td id=\"T_4ea9d710_ddb7_11ed_9f26_9c7bef1bc6c1row5_col2\" class=\"data row5 col2\" >0.03</td>\n",
       "                        <td id=\"T_4ea9d710_ddb7_11ed_9f26_9c7bef1bc6c1row5_col3\" class=\"data row5 col3\" >0.09</td>\n",
       "                        <td id=\"T_4ea9d710_ddb7_11ed_9f26_9c7bef1bc6c1row5_col4\" class=\"data row5 col4\" >0.17</td>\n",
       "                        <td id=\"T_4ea9d710_ddb7_11ed_9f26_9c7bef1bc6c1row5_col5\" class=\"data row5 col5\" >1.00</td>\n",
       "                        <td id=\"T_4ea9d710_ddb7_11ed_9f26_9c7bef1bc6c1row5_col6\" class=\"data row5 col6\" >-0.00</td>\n",
       "                        <td id=\"T_4ea9d710_ddb7_11ed_9f26_9c7bef1bc6c1row5_col7\" class=\"data row5 col7\" >0.18</td>\n",
       "                        <td id=\"T_4ea9d710_ddb7_11ed_9f26_9c7bef1bc6c1row5_col8\" class=\"data row5 col8\" >0.05</td>\n",
       "                        <td id=\"T_4ea9d710_ddb7_11ed_9f26_9c7bef1bc6c1row5_col9\" class=\"data row5 col9\" >0.00</td>\n",
       "                        <td id=\"T_4ea9d710_ddb7_11ed_9f26_9c7bef1bc6c1row5_col10\" class=\"data row5 col10\" >-0.13</td>\n",
       "            </tr>\n",
       "            <tr>\n",
       "                        <th id=\"T_4ea9d710_ddb7_11ed_9f26_9c7bef1bc6c1level0_row6\" class=\"row_heading level0 row6\" >floors</th>\n",
       "                        <td id=\"T_4ea9d710_ddb7_11ed_9f26_9c7bef1bc6c1row6_col0\" class=\"data row6 col0\" >0.02</td>\n",
       "                        <td id=\"T_4ea9d710_ddb7_11ed_9f26_9c7bef1bc6c1row6_col1\" class=\"data row6 col1\" >0.26</td>\n",
       "                        <td id=\"T_4ea9d710_ddb7_11ed_9f26_9c7bef1bc6c1row6_col2\" class=\"data row6 col2\" >0.18</td>\n",
       "                        <td id=\"T_4ea9d710_ddb7_11ed_9f26_9c7bef1bc6c1row6_col3\" class=\"data row6 col3\" >0.37</td>\n",
       "                        <td id=\"T_4ea9d710_ddb7_11ed_9f26_9c7bef1bc6c1row6_col4\" class=\"data row6 col4\" >0.35</td>\n",
       "                        <td id=\"T_4ea9d710_ddb7_11ed_9f26_9c7bef1bc6c1row6_col5\" class=\"data row6 col5\" >-0.00</td>\n",
       "                        <td id=\"T_4ea9d710_ddb7_11ed_9f26_9c7bef1bc6c1row6_col6\" class=\"data row6 col6\" >1.00</td>\n",
       "                        <td id=\"T_4ea9d710_ddb7_11ed_9f26_9c7bef1bc6c1row6_col7\" class=\"data row6 col7\" >0.52</td>\n",
       "                        <td id=\"T_4ea9d710_ddb7_11ed_9f26_9c7bef1bc6c1row6_col8\" class=\"data row6 col8\" >0.49</td>\n",
       "                        <td id=\"T_4ea9d710_ddb7_11ed_9f26_9c7bef1bc6c1row6_col9\" class=\"data row6 col9\" >0.00</td>\n",
       "                        <td id=\"T_4ea9d710_ddb7_11ed_9f26_9c7bef1bc6c1row6_col10\" class=\"data row6 col10\" >-0.06</td>\n",
       "            </tr>\n",
       "            <tr>\n",
       "                        <th id=\"T_4ea9d710_ddb7_11ed_9f26_9c7bef1bc6c1level0_row7\" class=\"row_heading level0 row7\" >sqft_above</th>\n",
       "                        <td id=\"T_4ea9d710_ddb7_11ed_9f26_9c7bef1bc6c1row7_col0\" class=\"data row7 col0\" >-0.01</td>\n",
       "                        <td id=\"T_4ea9d710_ddb7_11ed_9f26_9c7bef1bc6c1row7_col1\" class=\"data row7 col1\" >0.61</td>\n",
       "                        <td id=\"T_4ea9d710_ddb7_11ed_9f26_9c7bef1bc6c1row7_col2\" class=\"data row7 col2\" >0.48</td>\n",
       "                        <td id=\"T_4ea9d710_ddb7_11ed_9f26_9c7bef1bc6c1row7_col3\" class=\"data row7 col3\" >0.60</td>\n",
       "                        <td id=\"T_4ea9d710_ddb7_11ed_9f26_9c7bef1bc6c1row7_col4\" class=\"data row7 col4\" >0.88</td>\n",
       "                        <td id=\"T_4ea9d710_ddb7_11ed_9f26_9c7bef1bc6c1row7_col5\" class=\"data row7 col5\" >0.18</td>\n",
       "                        <td id=\"T_4ea9d710_ddb7_11ed_9f26_9c7bef1bc6c1row7_col6\" class=\"data row7 col6\" >0.52</td>\n",
       "                        <td id=\"T_4ea9d710_ddb7_11ed_9f26_9c7bef1bc6c1row7_col7\" class=\"data row7 col7\" >1.00</td>\n",
       "                        <td id=\"T_4ea9d710_ddb7_11ed_9f26_9c7bef1bc6c1row7_col8\" class=\"data row7 col8\" >0.42</td>\n",
       "                        <td id=\"T_4ea9d710_ddb7_11ed_9f26_9c7bef1bc6c1row7_col9\" class=\"data row7 col9\" >0.02</td>\n",
       "                        <td id=\"T_4ea9d710_ddb7_11ed_9f26_9c7bef1bc6c1row7_col10\" class=\"data row7 col10\" >-0.26</td>\n",
       "            </tr>\n",
       "            <tr>\n",
       "                        <th id=\"T_4ea9d710_ddb7_11ed_9f26_9c7bef1bc6c1level0_row8\" class=\"row_heading level0 row8\" >yr_built</th>\n",
       "                        <td id=\"T_4ea9d710_ddb7_11ed_9f26_9c7bef1bc6c1row8_col0\" class=\"data row8 col0\" >0.02</td>\n",
       "                        <td id=\"T_4ea9d710_ddb7_11ed_9f26_9c7bef1bc6c1row8_col1\" class=\"data row8 col1\" >0.05</td>\n",
       "                        <td id=\"T_4ea9d710_ddb7_11ed_9f26_9c7bef1bc6c1row8_col2\" class=\"data row8 col2\" >0.16</td>\n",
       "                        <td id=\"T_4ea9d710_ddb7_11ed_9f26_9c7bef1bc6c1row8_col3\" class=\"data row8 col3\" >0.38</td>\n",
       "                        <td id=\"T_4ea9d710_ddb7_11ed_9f26_9c7bef1bc6c1row8_col4\" class=\"data row8 col4\" >0.32</td>\n",
       "                        <td id=\"T_4ea9d710_ddb7_11ed_9f26_9c7bef1bc6c1row8_col5\" class=\"data row8 col5\" >0.05</td>\n",
       "                        <td id=\"T_4ea9d710_ddb7_11ed_9f26_9c7bef1bc6c1row8_col6\" class=\"data row8 col6\" >0.49</td>\n",
       "                        <td id=\"T_4ea9d710_ddb7_11ed_9f26_9c7bef1bc6c1row8_col7\" class=\"data row8 col7\" >0.42</td>\n",
       "                        <td id=\"T_4ea9d710_ddb7_11ed_9f26_9c7bef1bc6c1row8_col8\" class=\"data row8 col8\" >1.00</td>\n",
       "                        <td id=\"T_4ea9d710_ddb7_11ed_9f26_9c7bef1bc6c1row8_col9\" class=\"data row8 col9\" >-0.23</td>\n",
       "                        <td id=\"T_4ea9d710_ddb7_11ed_9f26_9c7bef1bc6c1row8_col10\" class=\"data row8 col10\" >-0.35</td>\n",
       "            </tr>\n",
       "            <tr>\n",
       "                        <th id=\"T_4ea9d710_ddb7_11ed_9f26_9c7bef1bc6c1level0_row9\" class=\"row_heading level0 row9\" >yr_renovated</th>\n",
       "                        <td id=\"T_4ea9d710_ddb7_11ed_9f26_9c7bef1bc6c1row9_col0\" class=\"data row9 col0\" >-0.01</td>\n",
       "                        <td id=\"T_4ea9d710_ddb7_11ed_9f26_9c7bef1bc6c1row9_col1\" class=\"data row9 col1\" >0.13</td>\n",
       "                        <td id=\"T_4ea9d710_ddb7_11ed_9f26_9c7bef1bc6c1row9_col2\" class=\"data row9 col2\" >0.02</td>\n",
       "                        <td id=\"T_4ea9d710_ddb7_11ed_9f26_9c7bef1bc6c1row9_col3\" class=\"data row9 col3\" >0.07</td>\n",
       "                        <td id=\"T_4ea9d710_ddb7_11ed_9f26_9c7bef1bc6c1row9_col4\" class=\"data row9 col4\" >0.06</td>\n",
       "                        <td id=\"T_4ea9d710_ddb7_11ed_9f26_9c7bef1bc6c1row9_col5\" class=\"data row9 col5\" >0.00</td>\n",
       "                        <td id=\"T_4ea9d710_ddb7_11ed_9f26_9c7bef1bc6c1row9_col6\" class=\"data row9 col6\" >0.00</td>\n",
       "                        <td id=\"T_4ea9d710_ddb7_11ed_9f26_9c7bef1bc6c1row9_col7\" class=\"data row9 col7\" >0.02</td>\n",
       "                        <td id=\"T_4ea9d710_ddb7_11ed_9f26_9c7bef1bc6c1row9_col8\" class=\"data row9 col8\" >-0.23</td>\n",
       "                        <td id=\"T_4ea9d710_ddb7_11ed_9f26_9c7bef1bc6c1row9_col9\" class=\"data row9 col9\" >1.00</td>\n",
       "                        <td id=\"T_4ea9d710_ddb7_11ed_9f26_9c7bef1bc6c1row9_col10\" class=\"data row9 col10\" >0.07</td>\n",
       "            </tr>\n",
       "            <tr>\n",
       "                        <th id=\"T_4ea9d710_ddb7_11ed_9f26_9c7bef1bc6c1level0_row10\" class=\"row_heading level0 row10\" >zipcode</th>\n",
       "                        <td id=\"T_4ea9d710_ddb7_11ed_9f26_9c7bef1bc6c1row10_col0\" class=\"data row10 col0\" >-0.01</td>\n",
       "                        <td id=\"T_4ea9d710_ddb7_11ed_9f26_9c7bef1bc6c1row10_col1\" class=\"data row10 col1\" >-0.05</td>\n",
       "                        <td id=\"T_4ea9d710_ddb7_11ed_9f26_9c7bef1bc6c1row10_col2\" class=\"data row10 col2\" >-0.15</td>\n",
       "                        <td id=\"T_4ea9d710_ddb7_11ed_9f26_9c7bef1bc6c1row10_col3\" class=\"data row10 col3\" >-0.14</td>\n",
       "                        <td id=\"T_4ea9d710_ddb7_11ed_9f26_9c7bef1bc6c1row10_col4\" class=\"data row10 col4\" >-0.20</td>\n",
       "                        <td id=\"T_4ea9d710_ddb7_11ed_9f26_9c7bef1bc6c1row10_col5\" class=\"data row10 col5\" >-0.13</td>\n",
       "                        <td id=\"T_4ea9d710_ddb7_11ed_9f26_9c7bef1bc6c1row10_col6\" class=\"data row10 col6\" >-0.06</td>\n",
       "                        <td id=\"T_4ea9d710_ddb7_11ed_9f26_9c7bef1bc6c1row10_col7\" class=\"data row10 col7\" >-0.26</td>\n",
       "                        <td id=\"T_4ea9d710_ddb7_11ed_9f26_9c7bef1bc6c1row10_col8\" class=\"data row10 col8\" >-0.35</td>\n",
       "                        <td id=\"T_4ea9d710_ddb7_11ed_9f26_9c7bef1bc6c1row10_col9\" class=\"data row10 col9\" >0.07</td>\n",
       "                        <td id=\"T_4ea9d710_ddb7_11ed_9f26_9c7bef1bc6c1row10_col10\" class=\"data row10 col10\" >1.00</td>\n",
       "            </tr>\n",
       "    </tbody></table>"
      ],
      "text/plain": [
       "<pandas.io.formats.style.Styler at 0x7fce6cb0cdf0>"
      ]
     },
     "execution_count": 147,
     "metadata": {},
     "output_type": "execute_result"
    }
   ],
   "source": [
    "#plot correlation heatmap\n",
    "kc_hses_correlation = kc_hses.corr().style.background_gradient(cmap='coolwarm').set_precision(2)\n",
    "kc_hses_correlation"
   ]
  },
  {
   "cell_type": "markdown",
   "id": "3052fc08",
   "metadata": {},
   "source": [
    "We see Strong positive correlation between `price` and the features: `bathrooms`, `sqft_living` and `sqft_above`, "
   ]
  },
  {
   "cell_type": "markdown",
   "id": "d5feaf81",
   "metadata": {},
   "source": [
    "`sqft_above` is strongly correlated with `sqft_living`. This may be because living space are typycally located above ground. In this case we may drop `sqft_above`."
   ]
  },
  {
   "cell_type": "code",
   "execution_count": 148,
   "id": "f0981032",
   "metadata": {},
   "outputs": [
    {
     "data": {
      "text/plain": [
       "Index(['id', 'price', 'bedrooms', 'bathrooms', 'sqft_living', 'sqft_lot',\n",
       "       'floors', 'waterfront', 'view', 'condition', 'grade', 'sqft_basement',\n",
       "       'yr_built', 'yr_renovated', 'zipcode'],\n",
       "      dtype='object')"
      ]
     },
     "execution_count": 148,
     "metadata": {},
     "output_type": "execute_result"
    }
   ],
   "source": [
    "kc_hses.drop('sqft_above', axis=1, inplace=True)\n",
    "kc_hses.columns"
   ]
  },
  {
   "cell_type": "markdown",
   "id": "d5e8e9d5",
   "metadata": {},
   "source": [
    "## Data Preparation"
   ]
  },
  {
   "cell_type": "code",
   "execution_count": null,
   "id": "6a3fe4b0",
   "metadata": {},
   "outputs": [],
   "source": []
  },
  {
   "cell_type": "markdown",
   "id": "60d01a9e",
   "metadata": {},
   "source": [
    "## Analysis and Modeling"
   ]
  },
  {
   "cell_type": "code",
   "execution_count": null,
   "id": "cb22bbcf",
   "metadata": {},
   "outputs": [],
   "source": []
  },
  {
   "cell_type": "markdown",
   "id": "0cfc0ec5",
   "metadata": {},
   "source": [
    "## Results "
   ]
  },
  {
   "cell_type": "code",
   "execution_count": null,
   "id": "3b61b392",
   "metadata": {},
   "outputs": [],
   "source": []
  },
  {
   "cell_type": "markdown",
   "id": "a3ca3a3a",
   "metadata": {},
   "source": [
    "## Conclusion"
   ]
  },
  {
   "cell_type": "code",
   "execution_count": null,
   "id": "843bfa79",
   "metadata": {},
   "outputs": [],
   "source": []
  },
  {
   "cell_type": "markdown",
   "id": "405049ec",
   "metadata": {},
   "source": [
    "## Recommendations"
   ]
  },
  {
   "cell_type": "code",
   "execution_count": null,
   "id": "8982f499",
   "metadata": {},
   "outputs": [],
   "source": []
  }
 ],
 "metadata": {
  "kernelspec": {
   "display_name": "Python (learn-env)",
   "language": "python",
   "name": "learn-env"
  },
  "language_info": {
   "codemirror_mode": {
    "name": "ipython",
    "version": 3
   },
   "file_extension": ".py",
   "mimetype": "text/x-python",
   "name": "python",
   "nbconvert_exporter": "python",
   "pygments_lexer": "ipython3",
   "version": "3.8.5"
  }
 },
 "nbformat": 4,
 "nbformat_minor": 5
}
