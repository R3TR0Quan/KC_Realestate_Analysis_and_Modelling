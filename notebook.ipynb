{
 "cells": [
  {
   "cell_type": "markdown",
   "id": "5e205c33",
   "metadata": {},
   "source": [
    "# King County Realestate Analysis and Modelling."
   ]
  },
  {
   "cell_type": "markdown",
   "id": "5069172c",
   "metadata": {},
   "source": [
    "## Business Problem"
   ]
  },
  {
   "cell_type": "markdown",
   "id": "09f97091",
   "metadata": {},
   "source": [
    "##  Introduction\n",
    "The realestate business has for a long time been of great interest to investors. Any party interested in investing in the realestate business will undoubtedly benefit from prior analysis of already existing data on the state of the market in order to minimize risk and maximize ROI. \n",
    "We got data from various sources such as the `kc_house_data.csv` file from Kaggle that we are going to perform anlysis and modelling on.\n",
    "\n",
    "### Stakeholders Name: ALPHA TENNENT"
   ]
  },
  {
   "cell_type": "markdown",
   "id": "06ea710e",
   "metadata": {},
   "source": [
    "## 1. Project Overview\n",
    "in our analysis, we explored the data provided by Alpha Tennent Stakeholders and build a multiple linear regression model with some of the features stipulated in the dataset. Hencefourth, the analaysis done and the results came to a solution and on the following factors that have a significant impact on the price of the King County Dataset:\n",
    "\n",
    "* Have a house by the waterfront\n",
    "* Increase the number of bathrooms as the number of bedrooms increases\n",
    "* Improve the overall grade of the home\n",
    "* Strive to maintain the house to ensure that its in good condition\n",
    "* Increase the number of floors and the size of the basement"
   ]
  },
  {
   "cell_type": "markdown",
   "id": "8cab6a97",
   "metadata": {},
   "source": [
    "### 1.1 Problem Statement\n",
    "We will be reviewing building grade, square-footage of living space, and location-related factors such as proximity to schools, coffee shops, parks, and scientology churches to determine which factors are highly correlated with home sale prices."
   ]
  },
  {
   "cell_type": "markdown",
   "id": "a9b454a8",
   "metadata": {},
   "source": [
    "### 1.2 Objective"
   ]
  },
  {
   "cell_type": "markdown",
   "id": "2adccd61",
   "metadata": {},
   "source": [
    "#### Main Objective\n",
    "The main objective is to come up with a predictive /accurate model that is an improvement of the baseline model for better house price prediction in King County."
   ]
  },
  {
   "cell_type": "markdown",
   "id": "b20ca6fa",
   "metadata": {},
   "source": [
    "#### Specific Objectives\n",
    "- To find out how renovation status affects sale price?\n",
    "- To determine whether how the number of bedrooms is related to the pricing of the house?\n",
    "- To determine if the floor number affects the pricing of the house?\n",
    "- To relate the year built affects/ is related to the house pricing?\n",
    "- To find whether the condition of the house is related to the house pricing?"
   ]
  },
  {
   "cell_type": "markdown",
   "id": "9596a19f",
   "metadata": {},
   "source": [
    "### 1.3 Experimental Design Taken.\n",
    "Implement changes as we go on with the project\n",
    "\n",
    "This phase is broken down into four tasks together with its projected outcome or output in detail:\n",
    "\n",
    "Collect Initial Data\n",
    "Describe Data\n",
    "Explore Data\n",
    "Verify Data Quality\n",
    "There was no need to collect any data for this project as it was already provided by the stakeholder. The data consists of house data from King County and is in .csv format."
   ]
  },
  {
   "cell_type": "markdown",
   "id": "59e7e626",
   "metadata": {},
   "source": [
    "## 2. Data Wrangling and Understanding"
   ]
  },
  {
   "cell_type": "markdown",
   "id": "9088698c",
   "metadata": {},
   "source": [
    "### 2.1 Columns Descriptions\n",
    "\n",
    "The main dataset we are using comes from the King County housing [dataset](https://www.kaggle.com/datasets/harlfoxem/housesalesprediction) that contains information on house sales between May 2014 and May 2015 consist of the following variables:\n",
    "\n",
    "- date: Date of house sale\n",
    "- price: The price which the house sold for\n",
    "- bedrooms: How many bedrooms the house has\n",
    "- bathrooms: How many bathrooms the house has\n",
    "- sqft_living: How much square footage the house has\n",
    "- sqft_lot: How much square footage the lot has\n",
    "- floors: How many floors the house has\n",
    "- waterfront: Whether the house is on the - - - - waterfront. Originally contained ‘YES’ or ‘NO’, converted to 0 or 1 for comparative purposes\n",
    "- view: Whether the house has a view and whether it’s fair, average, good, or excellent. Converted to numberical (0-4) for comparative purposes\n",
    "- condition: overall condition of the house: Poor, Fair, Average, Good, Very Good\n",
    "- grade: Numerical grading for house\n",
    "sqft_above: How much of the houses square footage is above ground\n",
    "- sqft_basement: How much of the square footage is in the basement\n",
    "- yr_built: Year the house was built\n",
    "- yr_renovated: Year the house was renovated, if applicable\n",
    "- zipcode: House zipcode\n",
    "- lat: House’s latitude coordinate\n",
    "- long: House’s longitude coordinate\n",
    "- sqft_living15: Average size of living space for the closest 15 houses\n",
    "- sqft_lot15: Average size of lot for the - - closest 15 houses"
   ]
  },
  {
   "cell_type": "code",
   "execution_count": 85,
   "id": "80f1def1",
   "metadata": {},
   "outputs": [],
   "source": [
    "# importing libraries for data handling\n",
    "import numpy as np\n",
    "import pandas as pd\n",
    "# importing libraries for visualization\n",
    "import matplotlib.pyplot as plt\n",
    "import seaborn as sns\n",
    "#import missingno as msno confirm how to import it and its purpose\n",
    "import folium\n",
    "import warnings\n",
    "# importing libraries for data handling\n",
    "import numpy as np\n",
    "import pandas as pd\n",
    "\n",
    "# importing libraries for visualization\n",
    "import matplotlib.pyplot as plt\n",
    "import seaborn as sns\n",
    "#import missingno as msno confirm how to import it and its purpose\n",
    "import folium\n",
    "import warnings\n",
    "# importing libraries for modeling\n",
    "import statsmodels.api as sm\n",
    "from sklearn.metrics import mean_absolute_error\n",
    "from statsmodels.stats.outliers_influence import variance_inflation_factor\n",
    "from statsmodels.tools.tools import add_constant\n",
    "\n",
    "# importing libraries for statistics\n",
    "import scipy.stats as stats\n",
    "\n",
    "# importing libraries for styling\n",
    "plt.style.use('seaborn')\n",
    "sns.set_style('whitegrid')\n",
    "\n",
    "warnings.filterwarnings('ignore')"
   ]
  },
  {
   "cell_type": "code",
   "execution_count": 86,
   "id": "bd24b930",
   "metadata": {},
   "outputs": [],
   "source": [
    "#import main data file\n",
    "kc_hses = pd.read_csv('data/kc_house_data.csv')"
   ]
  },
  {
   "cell_type": "code",
   "execution_count": 87,
   "id": "630f901e",
   "metadata": {},
   "outputs": [
    {
     "name": "stdout",
     "output_type": "stream",
     "text": [
      "Index(['id', 'date', 'price', 'bedrooms', 'bathrooms', 'sqft_living',\n",
      "       'sqft_lot', 'floors', 'waterfront', 'view', 'condition', 'grade',\n",
      "       'sqft_above', 'sqft_basement', 'yr_built', 'yr_renovated', 'zipcode',\n",
      "       'lat', 'long', 'sqft_living15', 'sqft_lot15'],\n",
      "      dtype='object')\n"
     ]
    }
   ],
   "source": [
    "#list columns\n",
    "print(kc_hses.columns)"
   ]
  },
  {
   "cell_type": "code",
   "execution_count": 88,
   "id": "5d166f9a",
   "metadata": {},
   "outputs": [
    {
     "data": {
      "text/html": [
       "<div>\n",
       "<style scoped>\n",
       "    .dataframe tbody tr th:only-of-type {\n",
       "        vertical-align: middle;\n",
       "    }\n",
       "\n",
       "    .dataframe tbody tr th {\n",
       "        vertical-align: top;\n",
       "    }\n",
       "\n",
       "    .dataframe thead th {\n",
       "        text-align: right;\n",
       "    }\n",
       "</style>\n",
       "<table border=\"1\" class=\"dataframe\">\n",
       "  <thead>\n",
       "    <tr style=\"text-align: right;\">\n",
       "      <th></th>\n",
       "      <th>id</th>\n",
       "      <th>date</th>\n",
       "      <th>price</th>\n",
       "      <th>bedrooms</th>\n",
       "      <th>bathrooms</th>\n",
       "      <th>sqft_living</th>\n",
       "      <th>sqft_lot</th>\n",
       "      <th>floors</th>\n",
       "      <th>waterfront</th>\n",
       "      <th>view</th>\n",
       "      <th>...</th>\n",
       "      <th>grade</th>\n",
       "      <th>sqft_above</th>\n",
       "      <th>sqft_basement</th>\n",
       "      <th>yr_built</th>\n",
       "      <th>yr_renovated</th>\n",
       "      <th>zipcode</th>\n",
       "      <th>lat</th>\n",
       "      <th>long</th>\n",
       "      <th>sqft_living15</th>\n",
       "      <th>sqft_lot15</th>\n",
       "    </tr>\n",
       "  </thead>\n",
       "  <tbody>\n",
       "    <tr>\n",
       "      <th>0</th>\n",
       "      <td>7129300520</td>\n",
       "      <td>10/13/2014</td>\n",
       "      <td>221900.0</td>\n",
       "      <td>3</td>\n",
       "      <td>1.00</td>\n",
       "      <td>1180</td>\n",
       "      <td>5650</td>\n",
       "      <td>1.0</td>\n",
       "      <td>NaN</td>\n",
       "      <td>NONE</td>\n",
       "      <td>...</td>\n",
       "      <td>7 Average</td>\n",
       "      <td>1180</td>\n",
       "      <td>0.0</td>\n",
       "      <td>1955</td>\n",
       "      <td>0.0</td>\n",
       "      <td>98178</td>\n",
       "      <td>47.5112</td>\n",
       "      <td>-122.257</td>\n",
       "      <td>1340</td>\n",
       "      <td>5650</td>\n",
       "    </tr>\n",
       "    <tr>\n",
       "      <th>1</th>\n",
       "      <td>6414100192</td>\n",
       "      <td>12/9/2014</td>\n",
       "      <td>538000.0</td>\n",
       "      <td>3</td>\n",
       "      <td>2.25</td>\n",
       "      <td>2570</td>\n",
       "      <td>7242</td>\n",
       "      <td>2.0</td>\n",
       "      <td>NO</td>\n",
       "      <td>NONE</td>\n",
       "      <td>...</td>\n",
       "      <td>7 Average</td>\n",
       "      <td>2170</td>\n",
       "      <td>400.0</td>\n",
       "      <td>1951</td>\n",
       "      <td>1991.0</td>\n",
       "      <td>98125</td>\n",
       "      <td>47.7210</td>\n",
       "      <td>-122.319</td>\n",
       "      <td>1690</td>\n",
       "      <td>7639</td>\n",
       "    </tr>\n",
       "    <tr>\n",
       "      <th>2</th>\n",
       "      <td>5631500400</td>\n",
       "      <td>2/25/2015</td>\n",
       "      <td>180000.0</td>\n",
       "      <td>2</td>\n",
       "      <td>1.00</td>\n",
       "      <td>770</td>\n",
       "      <td>10000</td>\n",
       "      <td>1.0</td>\n",
       "      <td>NO</td>\n",
       "      <td>NONE</td>\n",
       "      <td>...</td>\n",
       "      <td>6 Low Average</td>\n",
       "      <td>770</td>\n",
       "      <td>0.0</td>\n",
       "      <td>1933</td>\n",
       "      <td>NaN</td>\n",
       "      <td>98028</td>\n",
       "      <td>47.7379</td>\n",
       "      <td>-122.233</td>\n",
       "      <td>2720</td>\n",
       "      <td>8062</td>\n",
       "    </tr>\n",
       "    <tr>\n",
       "      <th>3</th>\n",
       "      <td>2487200875</td>\n",
       "      <td>12/9/2014</td>\n",
       "      <td>604000.0</td>\n",
       "      <td>4</td>\n",
       "      <td>3.00</td>\n",
       "      <td>1960</td>\n",
       "      <td>5000</td>\n",
       "      <td>1.0</td>\n",
       "      <td>NO</td>\n",
       "      <td>NONE</td>\n",
       "      <td>...</td>\n",
       "      <td>7 Average</td>\n",
       "      <td>1050</td>\n",
       "      <td>910.0</td>\n",
       "      <td>1965</td>\n",
       "      <td>0.0</td>\n",
       "      <td>98136</td>\n",
       "      <td>47.5208</td>\n",
       "      <td>-122.393</td>\n",
       "      <td>1360</td>\n",
       "      <td>5000</td>\n",
       "    </tr>\n",
       "    <tr>\n",
       "      <th>4</th>\n",
       "      <td>1954400510</td>\n",
       "      <td>2/18/2015</td>\n",
       "      <td>510000.0</td>\n",
       "      <td>3</td>\n",
       "      <td>2.00</td>\n",
       "      <td>1680</td>\n",
       "      <td>8080</td>\n",
       "      <td>1.0</td>\n",
       "      <td>NO</td>\n",
       "      <td>NONE</td>\n",
       "      <td>...</td>\n",
       "      <td>8 Good</td>\n",
       "      <td>1680</td>\n",
       "      <td>0.0</td>\n",
       "      <td>1987</td>\n",
       "      <td>0.0</td>\n",
       "      <td>98074</td>\n",
       "      <td>47.6168</td>\n",
       "      <td>-122.045</td>\n",
       "      <td>1800</td>\n",
       "      <td>7503</td>\n",
       "    </tr>\n",
       "  </tbody>\n",
       "</table>\n",
       "<p>5 rows × 21 columns</p>\n",
       "</div>"
      ],
      "text/plain": [
       "           id        date     price  bedrooms  bathrooms  sqft_living  \\\n",
       "0  7129300520  10/13/2014  221900.0         3       1.00         1180   \n",
       "1  6414100192   12/9/2014  538000.0         3       2.25         2570   \n",
       "2  5631500400   2/25/2015  180000.0         2       1.00          770   \n",
       "3  2487200875   12/9/2014  604000.0         4       3.00         1960   \n",
       "4  1954400510   2/18/2015  510000.0         3       2.00         1680   \n",
       "\n",
       "   sqft_lot  floors waterfront  view  ...          grade sqft_above  \\\n",
       "0      5650     1.0        NaN  NONE  ...      7 Average       1180   \n",
       "1      7242     2.0         NO  NONE  ...      7 Average       2170   \n",
       "2     10000     1.0         NO  NONE  ...  6 Low Average        770   \n",
       "3      5000     1.0         NO  NONE  ...      7 Average       1050   \n",
       "4      8080     1.0         NO  NONE  ...         8 Good       1680   \n",
       "\n",
       "   sqft_basement yr_built  yr_renovated  zipcode      lat     long  \\\n",
       "0            0.0     1955           0.0    98178  47.5112 -122.257   \n",
       "1          400.0     1951        1991.0    98125  47.7210 -122.319   \n",
       "2            0.0     1933           NaN    98028  47.7379 -122.233   \n",
       "3          910.0     1965           0.0    98136  47.5208 -122.393   \n",
       "4            0.0     1987           0.0    98074  47.6168 -122.045   \n",
       "\n",
       "   sqft_living15  sqft_lot15  \n",
       "0           1340        5650  \n",
       "1           1690        7639  \n",
       "2           2720        8062  \n",
       "3           1360        5000  \n",
       "4           1800        7503  \n",
       "\n",
       "[5 rows x 21 columns]"
      ]
     },
     "execution_count": 88,
     "metadata": {},
     "output_type": "execute_result"
    }
   ],
   "source": [
    "#display first rows\n",
    "kc_hses.head()"
   ]
  },
  {
   "cell_type": "markdown",
   "id": "fc3aaf2f",
   "metadata": {},
   "source": [
    "### 2.2  Data Munging"
   ]
  },
  {
   "cell_type": "code",
   "execution_count": 89,
   "id": "2890e17b",
   "metadata": {},
   "outputs": [
    {
     "name": "stdout",
     "output_type": "stream",
     "text": [
      "<class 'pandas.core.frame.DataFrame'>\n",
      "RangeIndex: 21597 entries, 0 to 21596\n",
      "Data columns (total 21 columns):\n",
      " #   Column         Non-Null Count  Dtype  \n",
      "---  ------         --------------  -----  \n",
      " 0   id             21597 non-null  int64  \n",
      " 1   date           21597 non-null  object \n",
      " 2   price          21597 non-null  float64\n",
      " 3   bedrooms       21597 non-null  int64  \n",
      " 4   bathrooms      21597 non-null  float64\n",
      " 5   sqft_living    21597 non-null  int64  \n",
      " 6   sqft_lot       21597 non-null  int64  \n",
      " 7   floors         21597 non-null  float64\n",
      " 8   waterfront     19221 non-null  object \n",
      " 9   view           21534 non-null  object \n",
      " 10  condition      21597 non-null  object \n",
      " 11  grade          21597 non-null  object \n",
      " 12  sqft_above     21597 non-null  int64  \n",
      " 13  sqft_basement  21597 non-null  object \n",
      " 14  yr_built       21597 non-null  int64  \n",
      " 15  yr_renovated   17755 non-null  float64\n",
      " 16  zipcode        21597 non-null  int64  \n",
      " 17  lat            21597 non-null  float64\n",
      " 18  long           21597 non-null  float64\n",
      " 19  sqft_living15  21597 non-null  int64  \n",
      " 20  sqft_lot15     21597 non-null  int64  \n",
      "dtypes: float64(6), int64(9), object(6)\n",
      "memory usage: 3.5+ MB\n"
     ]
    }
   ],
   "source": [
    "#info\n",
    "kc_hses.info()"
   ]
  },
  {
   "cell_type": "code",
   "execution_count": 90,
   "id": "81944a2b",
   "metadata": {},
   "outputs": [
    {
     "data": {
      "text/plain": [
       "id                  0\n",
       "date                0\n",
       "price               0\n",
       "bedrooms            0\n",
       "bathrooms           0\n",
       "sqft_living         0\n",
       "sqft_lot            0\n",
       "floors              0\n",
       "waterfront       2376\n",
       "view               63\n",
       "condition           0\n",
       "grade               0\n",
       "sqft_above          0\n",
       "sqft_basement       0\n",
       "yr_built            0\n",
       "yr_renovated     3842\n",
       "zipcode             0\n",
       "lat                 0\n",
       "long                0\n",
       "sqft_living15       0\n",
       "sqft_lot15          0\n",
       "dtype: int64"
      ]
     },
     "execution_count": 90,
     "metadata": {},
     "output_type": "execute_result"
    }
   ],
   "source": [
    "#determine missing values\n",
    "kc_hses.isna().sum()"
   ]
  },
  {
   "cell_type": "markdown",
   "id": "b6a5c82f",
   "metadata": {},
   "source": [
    "we can see that the columns with missing data are `waterfront`, `view`, and `yr_renovated`. This accounts for *11%*, *0.3%*, and *18%* of the total number of rows in the dataset respectively."
   ]
  },
  {
   "cell_type": "markdown",
   "id": "8da49848",
   "metadata": {},
   "source": [
    "The `bathrooms` feature seems to contain **float** values which shouldnt be the case. Lets attempt to normalize them by rounding. "
   ]
  },
  {
   "cell_type": "code",
   "execution_count": 115,
   "id": "f29b3f77",
   "metadata": {},
   "outputs": [],
   "source": [
    "#normalize 'bathrooms' column\n",
    "kc_hses['bathrooms'] = kc_hses['bathrooms'].apply(lambda x: int(round(x, 0)))"
   ]
  },
  {
   "cell_type": "markdown",
   "id": "04f676b3",
   "metadata": {},
   "source": [
    "### 2.2 EDA"
   ]
  },
  {
   "cell_type": "code",
   "execution_count": 92,
   "id": "7a4bb08d",
   "metadata": {},
   "outputs": [
    {
     "data": {
      "image/png": "[encoded data removed]",
      "text/plain": [
       "<Figure size 576x396 with 1 Axes>"
      ]
     },
     "metadata": {},
     "output_type": "display_data"
    }
   ],
   "source": [
    "#Visualize price\n",
    "sns.distplot(kc_hses['price'], kde=True)\n",
    "plt.show();"
   ]
  },
  {
   "cell_type": "markdown",
   "id": "577a3625",
   "metadata": {},
   "source": [
    "Price is normally distributed although skewed to the right. There may be outliers causing the skew. In the context of realestate these outliers may be valid and may not warrant dropping."
   ]
  },
  {
   "cell_type": "code",
   "execution_count": 93,
   "id": "a0dc9690",
   "metadata": {},
   "outputs": [
    {
     "data": {
      "text/plain": [
       "id               21420\n",
       "date               372\n",
       "price             3622\n",
       "bedrooms            12\n",
       "bathrooms            9\n",
       "sqft_living       1034\n",
       "sqft_lot          9776\n",
       "floors               6\n",
       "waterfront           2\n",
       "view                 5\n",
       "condition            5\n",
       "grade               11\n",
       "sqft_above         942\n",
       "sqft_basement      304\n",
       "yr_built           116\n",
       "yr_renovated        70\n",
       "zipcode             70\n",
       "lat               5033\n",
       "long               751\n",
       "sqft_living15      777\n",
       "sqft_lot15        8682\n",
       "dtype: int64"
      ]
     },
     "execution_count": 93,
     "metadata": {},
     "output_type": "execute_result"
    }
   ],
   "source": [
    "kc_hses.nunique()"
   ]
  },
  {
   "cell_type": "code",
   "execution_count": 94,
   "id": "d4f26da2",
   "metadata": {},
   "outputs": [
    {
     "data": {
      "text/plain": [
       "2    13847\n",
       "1     3931\n",
       "3     2527\n",
       "4     1201\n",
       "5       57\n",
       "6       24\n",
       "8        4\n",
       "0        4\n",
       "7        2\n",
       "Name: bathrooms, dtype: int64"
      ]
     },
     "execution_count": 94,
     "metadata": {},
     "output_type": "execute_result"
    }
   ],
   "source": [
    "kc_hses['bathrooms'].value_counts()"
   ]
  },
  {
   "cell_type": "code",
   "execution_count": 95,
   "id": "34af9fc7",
   "metadata": {},
   "outputs": [
    {
     "data": {
      "image/png": "[encoded data removed]",
      "text/plain": [
       "<Figure size 576x396 with 1 Axes>"
      ]
     },
     "metadata": {},
     "output_type": "display_data"
    }
   ],
   "source": [
    "#plot bathrooms distribution\n",
    "sns.histplot(kc_hses['bathrooms'], kde=False, color='purple')\n",
    "plt.show();"
   ]
  },
  {
   "cell_type": "markdown",
   "id": "8cf6c2cc",
   "metadata": {},
   "source": [
    "#### Observation\n",
    "* Most properties seem to have 2 bathrooms on average. The kde function seems to look a bit strange owing to `bathrooms` beign a categorical feature."
   ]
  },
  {
   "cell_type": "code",
   "execution_count": 116,
   "id": "e37df573",
   "metadata": {},
   "outputs": [
    {
     "data": {
      "image/png": "[encoded data removed]",
      "text/plain": [
       "<Figure size 576x396 with 1 Axes>"
      ]
     },
     "metadata": {},
     "output_type": "display_data"
    }
   ],
   "source": [
    "#plot bar of bathrooms against price\n",
    "kc_hses.groupby('bathrooms')['price'].mean().plot.bar(x='bathrooms', label='Avg price')\n",
    "plt.legend()\n",
    "plt.show()"
   ]
  },
  {
   "cell_type": "code",
   "execution_count": 97,
   "id": "e1815c85",
   "metadata": {},
   "outputs": [
    {
     "data": {
      "image/png": "[encoded data removed]",
      "text/plain": [
       "<Figure size 964.125x180 with 6 Axes>"
      ]
     },
     "metadata": {},
     "output_type": "display_data"
    }
   ],
   "source": [
    "#plot scatterplots \n",
    "xvars = ['price', 'bathrooms', 'sqft_living', 'sqft_above', 'floors']\n",
    "yvars = ['price']\n",
    "sns.pairplot(kc_hses, x_vars=xvars, y_vars=yvars, hue='zipcode')\n",
    "plt.show();"
   ]
  },
  {
   "cell_type": "markdown",
   "id": "c2ec6490",
   "metadata": {},
   "source": [
    "- `bathrooms` and `floors` are categorical features. We can use **One-Hot Encoding** to transform our model based on these features.\n",
    "- `sqft-living` and `sqft_above` seem to have a linear relationship with `price`"
   ]
  },
  {
   "cell_type": "code",
   "execution_count": 98,
   "id": "8168ff64",
   "metadata": {},
   "outputs": [
    {
     "data": {
      "text/html": [
       "<style  type=\"text/css\" >\n",
       "#T_aa9340dc_ddbe_11ed_b33e_3cf01116e270row0_col0,#T_aa9340dc_ddbe_11ed_b33e_3cf01116e270row1_col1,#T_aa9340dc_ddbe_11ed_b33e_3cf01116e270row2_col2,#T_aa9340dc_ddbe_11ed_b33e_3cf01116e270row3_col3,#T_aa9340dc_ddbe_11ed_b33e_3cf01116e270row4_col4,#T_aa9340dc_ddbe_11ed_b33e_3cf01116e270row5_col5,#T_aa9340dc_ddbe_11ed_b33e_3cf01116e270row6_col6,#T_aa9340dc_ddbe_11ed_b33e_3cf01116e270row7_col7,#T_aa9340dc_ddbe_11ed_b33e_3cf01116e270row8_col8,#T_aa9340dc_ddbe_11ed_b33e_3cf01116e270row9_col9,#T_aa9340dc_ddbe_11ed_b33e_3cf01116e270row10_col10,#T_aa9340dc_ddbe_11ed_b33e_3cf01116e270row11_col11,#T_aa9340dc_ddbe_11ed_b33e_3cf01116e270row12_col12,#T_aa9340dc_ddbe_11ed_b33e_3cf01116e270row13_col13,#T_aa9340dc_ddbe_11ed_b33e_3cf01116e270row14_col14{\n",
       "            background-color:  #b40426;\n",
       "            color:  #f1f1f1;\n",
       "        }#T_aa9340dc_ddbe_11ed_b33e_3cf01116e270row0_col1{\n",
       "            background-color:  #445acc;\n",
       "            color:  #f1f1f1;\n",
       "        }#T_aa9340dc_ddbe_11ed_b33e_3cf01116e270row0_col2,#T_aa9340dc_ddbe_11ed_b33e_3cf01116e270row5_col1{\n",
       "            background-color:  #6485ec;\n",
       "            color:  #000000;\n",
       "        }#T_aa9340dc_ddbe_11ed_b33e_3cf01116e270row0_col3,#T_aa9340dc_ddbe_11ed_b33e_3cf01116e270row2_col0,#T_aa9340dc_ddbe_11ed_b33e_3cf01116e270row11_col2,#T_aa9340dc_ddbe_11ed_b33e_3cf01116e270row12_col9{\n",
       "            background-color:  #6180e9;\n",
       "            color:  #000000;\n",
       "        }#T_aa9340dc_ddbe_11ed_b33e_3cf01116e270row0_col4,#T_aa9340dc_ddbe_11ed_b33e_3cf01116e270row9_col11,#T_aa9340dc_ddbe_11ed_b33e_3cf01116e270row14_col2{\n",
       "            background-color:  #6c8ff1;\n",
       "            color:  #000000;\n",
       "        }#T_aa9340dc_ddbe_11ed_b33e_3cf01116e270row0_col5,#T_aa9340dc_ddbe_11ed_b33e_3cf01116e270row8_col9,#T_aa9340dc_ddbe_11ed_b33e_3cf01116e270row8_col11,#T_aa9340dc_ddbe_11ed_b33e_3cf01116e270row10_col1,#T_aa9340dc_ddbe_11ed_b33e_3cf01116e270row10_col2,#T_aa9340dc_ddbe_11ed_b33e_3cf01116e270row10_col3,#T_aa9340dc_ddbe_11ed_b33e_3cf01116e270row10_col4,#T_aa9340dc_ddbe_11ed_b33e_3cf01116e270row10_col5,#T_aa9340dc_ddbe_11ed_b33e_3cf01116e270row10_col6,#T_aa9340dc_ddbe_11ed_b33e_3cf01116e270row10_col7,#T_aa9340dc_ddbe_11ed_b33e_3cf01116e270row10_col8,#T_aa9340dc_ddbe_11ed_b33e_3cf01116e270row10_col12,#T_aa9340dc_ddbe_11ed_b33e_3cf01116e270row10_col13,#T_aa9340dc_ddbe_11ed_b33e_3cf01116e270row10_col14,#T_aa9340dc_ddbe_11ed_b33e_3cf01116e270row12_col10,#T_aa9340dc_ddbe_11ed_b33e_3cf01116e270row14_col0{\n",
       "            background-color:  #3b4cc0;\n",
       "            color:  #f1f1f1;\n",
       "        }#T_aa9340dc_ddbe_11ed_b33e_3cf01116e270row0_col6,#T_aa9340dc_ddbe_11ed_b33e_3cf01116e270row12_col1{\n",
       "            background-color:  #506bda;\n",
       "            color:  #000000;\n",
       "        }#T_aa9340dc_ddbe_11ed_b33e_3cf01116e270row0_col7,#T_aa9340dc_ddbe_11ed_b33e_3cf01116e270row1_col5,#T_aa9340dc_ddbe_11ed_b33e_3cf01116e270row2_col9,#T_aa9340dc_ddbe_11ed_b33e_3cf01116e270row3_col5{\n",
       "            background-color:  #7a9df8;\n",
       "            color:  #000000;\n",
       "        }#T_aa9340dc_ddbe_11ed_b33e_3cf01116e270row0_col8,#T_aa9340dc_ddbe_11ed_b33e_3cf01116e270row11_col12{\n",
       "            background-color:  #96b7ff;\n",
       "            color:  #000000;\n",
       "        }#T_aa9340dc_ddbe_11ed_b33e_3cf01116e270row0_col9,#T_aa9340dc_ddbe_11ed_b33e_3cf01116e270row4_col11,#T_aa9340dc_ddbe_11ed_b33e_3cf01116e270row6_col11,#T_aa9340dc_ddbe_11ed_b33e_3cf01116e270row9_col1,#T_aa9340dc_ddbe_11ed_b33e_3cf01116e270row12_col6{\n",
       "            background-color:  #7295f4;\n",
       "            color:  #000000;\n",
       "        }#T_aa9340dc_ddbe_11ed_b33e_3cf01116e270row0_col10{\n",
       "            background-color:  #b2ccfb;\n",
       "            color:  #000000;\n",
       "        }#T_aa9340dc_ddbe_11ed_b33e_3cf01116e270row0_col11,#T_aa9340dc_ddbe_11ed_b33e_3cf01116e270row7_col11{\n",
       "            background-color:  #6282ea;\n",
       "            color:  #000000;\n",
       "        }#T_aa9340dc_ddbe_11ed_b33e_3cf01116e270row0_col12,#T_aa9340dc_ddbe_11ed_b33e_3cf01116e270row1_col12,#T_aa9340dc_ddbe_11ed_b33e_3cf01116e270row2_col8{\n",
       "            background-color:  #b7cff9;\n",
       "            color:  #000000;\n",
       "        }#T_aa9340dc_ddbe_11ed_b33e_3cf01116e270row0_col13,#T_aa9340dc_ddbe_11ed_b33e_3cf01116e270row9_col13{\n",
       "            background-color:  #81a4fb;\n",
       "            color:  #000000;\n",
       "        }#T_aa9340dc_ddbe_11ed_b33e_3cf01116e270row0_col14,#T_aa9340dc_ddbe_11ed_b33e_3cf01116e270row5_col0{\n",
       "            background-color:  #3c4ec2;\n",
       "            color:  #f1f1f1;\n",
       "        }#T_aa9340dc_ddbe_11ed_b33e_3cf01116e270row1_col0{\n",
       "            background-color:  #5b7ae5;\n",
       "            color:  #000000;\n",
       "        }#T_aa9340dc_ddbe_11ed_b33e_3cf01116e270row1_col2{\n",
       "            background-color:  #c0d4f5;\n",
       "            color:  #000000;\n",
       "        }#T_aa9340dc_ddbe_11ed_b33e_3cf01116e270row1_col3,#T_aa9340dc_ddbe_11ed_b33e_3cf01116e270row7_col12{\n",
       "            background-color:  #efcfbf;\n",
       "            color:  #000000;\n",
       "        }#T_aa9340dc_ddbe_11ed_b33e_3cf01116e270row1_col4,#T_aa9340dc_ddbe_11ed_b33e_3cf01116e270row3_col4,#T_aa9340dc_ddbe_11ed_b33e_3cf01116e270row14_col5{\n",
       "            background-color:  #f4987a;\n",
       "            color:  #000000;\n",
       "        }#T_aa9340dc_ddbe_11ed_b33e_3cf01116e270row1_col6,#T_aa9340dc_ddbe_11ed_b33e_3cf01116e270row1_col8,#T_aa9340dc_ddbe_11ed_b33e_3cf01116e270row5_col8,#T_aa9340dc_ddbe_11ed_b33e_3cf01116e270row7_col14{\n",
       "            background-color:  #9ebeff;\n",
       "            color:  #000000;\n",
       "        }#T_aa9340dc_ddbe_11ed_b33e_3cf01116e270row1_col7{\n",
       "            background-color:  #f7b194;\n",
       "            color:  #000000;\n",
       "        }#T_aa9340dc_ddbe_11ed_b33e_3cf01116e270row1_col9{\n",
       "            background-color:  #9bbcff;\n",
       "            color:  #000000;\n",
       "        }#T_aa9340dc_ddbe_11ed_b33e_3cf01116e270row1_col10{\n",
       "            background-color:  #a7c5fe;\n",
       "            color:  #000000;\n",
       "        }#T_aa9340dc_ddbe_11ed_b33e_3cf01116e270row1_col11{\n",
       "            background-color:  #bfd3f6;\n",
       "            color:  #000000;\n",
       "        }#T_aa9340dc_ddbe_11ed_b33e_3cf01116e270row1_col13{\n",
       "            background-color:  #f7b497;\n",
       "            color:  #000000;\n",
       "        }#T_aa9340dc_ddbe_11ed_b33e_3cf01116e270row1_col14,#T_aa9340dc_ddbe_11ed_b33e_3cf01116e270row7_col9{\n",
       "            background-color:  #7b9ff9;\n",
       "            color:  #000000;\n",
       "        }#T_aa9340dc_ddbe_11ed_b33e_3cf01116e270row2_col1{\n",
       "            background-color:  #aec9fc;\n",
       "            color:  #000000;\n",
       "        }#T_aa9340dc_ddbe_11ed_b33e_3cf01116e270row2_col3{\n",
       "            background-color:  #ead5c9;\n",
       "            color:  #000000;\n",
       "        }#T_aa9340dc_ddbe_11ed_b33e_3cf01116e270row2_col4,#T_aa9340dc_ddbe_11ed_b33e_3cf01116e270row7_col3{\n",
       "            background-color:  #f6bda2;\n",
       "            color:  #000000;\n",
       "        }#T_aa9340dc_ddbe_11ed_b33e_3cf01116e270row2_col5,#T_aa9340dc_ddbe_11ed_b33e_3cf01116e270row11_col8{\n",
       "            background-color:  #688aef;\n",
       "            color:  #000000;\n",
       "        }#T_aa9340dc_ddbe_11ed_b33e_3cf01116e270row2_col6,#T_aa9340dc_ddbe_11ed_b33e_3cf01116e270row9_col7{\n",
       "            background-color:  #84a7fc;\n",
       "            color:  #000000;\n",
       "        }#T_aa9340dc_ddbe_11ed_b33e_3cf01116e270row2_col7{\n",
       "            background-color:  #f0cdbb;\n",
       "            color:  #000000;\n",
       "        }#T_aa9340dc_ddbe_11ed_b33e_3cf01116e270row2_col10{\n",
       "            background-color:  #92b4fe;\n",
       "            color:  #000000;\n",
       "        }#T_aa9340dc_ddbe_11ed_b33e_3cf01116e270row2_col11,#T_aa9340dc_ddbe_11ed_b33e_3cf01116e270row6_col14,#T_aa9340dc_ddbe_11ed_b33e_3cf01116e270row9_col5,#T_aa9340dc_ddbe_11ed_b33e_3cf01116e270row11_col0,#T_aa9340dc_ddbe_11ed_b33e_3cf01116e270row13_col0{\n",
       "            background-color:  #5f7fe8;\n",
       "            color:  #000000;\n",
       "        }#T_aa9340dc_ddbe_11ed_b33e_3cf01116e270row2_col12{\n",
       "            background-color:  #cdd9ec;\n",
       "            color:  #000000;\n",
       "        }#T_aa9340dc_ddbe_11ed_b33e_3cf01116e270row2_col13,#T_aa9340dc_ddbe_11ed_b33e_3cf01116e270row14_col12{\n",
       "            background-color:  #e3d9d3;\n",
       "            color:  #000000;\n",
       "        }#T_aa9340dc_ddbe_11ed_b33e_3cf01116e270row2_col14{\n",
       "            background-color:  #6b8df0;\n",
       "            color:  #000000;\n",
       "        }#T_aa9340dc_ddbe_11ed_b33e_3cf01116e270row3_col0,#T_aa9340dc_ddbe_11ed_b33e_3cf01116e270row10_col0{\n",
       "            background-color:  #5e7de7;\n",
       "            color:  #000000;\n",
       "        }#T_aa9340dc_ddbe_11ed_b33e_3cf01116e270row3_col1,#T_aa9340dc_ddbe_11ed_b33e_3cf01116e270row8_col7{\n",
       "            background-color:  #e8d6cc;\n",
       "            color:  #000000;\n",
       "        }#T_aa9340dc_ddbe_11ed_b33e_3cf01116e270row3_col2{\n",
       "            background-color:  #ead4c8;\n",
       "            color:  #000000;\n",
       "        }#T_aa9340dc_ddbe_11ed_b33e_3cf01116e270row3_col6,#T_aa9340dc_ddbe_11ed_b33e_3cf01116e270row9_col10{\n",
       "            background-color:  #c1d4f4;\n",
       "            color:  #000000;\n",
       "        }#T_aa9340dc_ddbe_11ed_b33e_3cf01116e270row3_col7{\n",
       "            background-color:  #f7b396;\n",
       "            color:  #000000;\n",
       "        }#T_aa9340dc_ddbe_11ed_b33e_3cf01116e270row3_col8{\n",
       "            background-color:  #e6d7cf;\n",
       "            color:  #000000;\n",
       "        }#T_aa9340dc_ddbe_11ed_b33e_3cf01116e270row3_col9,#T_aa9340dc_ddbe_11ed_b33e_3cf01116e270row10_col9{\n",
       "            background-color:  #89acfd;\n",
       "            color:  #000000;\n",
       "        }#T_aa9340dc_ddbe_11ed_b33e_3cf01116e270row3_col10,#T_aa9340dc_ddbe_11ed_b33e_3cf01116e270row8_col2,#T_aa9340dc_ddbe_11ed_b33e_3cf01116e270row14_col10{\n",
       "            background-color:  #93b5fe;\n",
       "            color:  #000000;\n",
       "        }#T_aa9340dc_ddbe_11ed_b33e_3cf01116e270row3_col11,#T_aa9340dc_ddbe_11ed_b33e_3cf01116e270row11_col3,#T_aa9340dc_ddbe_11ed_b33e_3cf01116e270row13_col11{\n",
       "            background-color:  #7093f3;\n",
       "            color:  #000000;\n",
       "        }#T_aa9340dc_ddbe_11ed_b33e_3cf01116e270row3_col12{\n",
       "            background-color:  #d2dbe8;\n",
       "            color:  #000000;\n",
       "        }#T_aa9340dc_ddbe_11ed_b33e_3cf01116e270row3_col13,#T_aa9340dc_ddbe_11ed_b33e_3cf01116e270row13_col1{\n",
       "            background-color:  #f2c9b4;\n",
       "            color:  #000000;\n",
       "        }#T_aa9340dc_ddbe_11ed_b33e_3cf01116e270row3_col14,#T_aa9340dc_ddbe_11ed_b33e_3cf01116e270row5_col3,#T_aa9340dc_ddbe_11ed_b33e_3cf01116e270row11_col7,#T_aa9340dc_ddbe_11ed_b33e_3cf01116e270row14_col3{\n",
       "            background-color:  #7da0f9;\n",
       "            color:  #000000;\n",
       "        }#T_aa9340dc_ddbe_11ed_b33e_3cf01116e270row4_col0,#T_aa9340dc_ddbe_11ed_b33e_3cf01116e270row6_col5,#T_aa9340dc_ddbe_11ed_b33e_3cf01116e270row7_col0,#T_aa9340dc_ddbe_11ed_b33e_3cf01116e270row9_col0{\n",
       "            background-color:  #5d7ce6;\n",
       "            color:  #000000;\n",
       "        }#T_aa9340dc_ddbe_11ed_b33e_3cf01116e270row4_col1{\n",
       "            background-color:  #f7a688;\n",
       "            color:  #000000;\n",
       "        }#T_aa9340dc_ddbe_11ed_b33e_3cf01116e270row4_col2{\n",
       "            background-color:  #f5c1a9;\n",
       "            color:  #000000;\n",
       "        }#T_aa9340dc_ddbe_11ed_b33e_3cf01116e270row4_col3{\n",
       "            background-color:  #f59d7e;\n",
       "            color:  #000000;\n",
       "        }#T_aa9340dc_ddbe_11ed_b33e_3cf01116e270row4_col5{\n",
       "            background-color:  #94b6ff;\n",
       "            color:  #000000;\n",
       "        }#T_aa9340dc_ddbe_11ed_b33e_3cf01116e270row4_col6{\n",
       "            background-color:  #bcd2f7;\n",
       "            color:  #000000;\n",
       "        }#T_aa9340dc_ddbe_11ed_b33e_3cf01116e270row4_col7{\n",
       "            background-color:  #d65244;\n",
       "            color:  #000000;\n",
       "        }#T_aa9340dc_ddbe_11ed_b33e_3cf01116e270row4_col8{\n",
       "            background-color:  #dbdcde;\n",
       "            color:  #000000;\n",
       "        }#T_aa9340dc_ddbe_11ed_b33e_3cf01116e270row4_col9{\n",
       "            background-color:  #85a8fc;\n",
       "            color:  #000000;\n",
       "        }#T_aa9340dc_ddbe_11ed_b33e_3cf01116e270row4_col10{\n",
       "            background-color:  #86a9fc;\n",
       "            color:  #000000;\n",
       "        }#T_aa9340dc_ddbe_11ed_b33e_3cf01116e270row4_col12{\n",
       "            background-color:  #e0dbd8;\n",
       "            color:  #000000;\n",
       "        }#T_aa9340dc_ddbe_11ed_b33e_3cf01116e270row4_col13{\n",
       "            background-color:  #ec7f63;\n",
       "            color:  #000000;\n",
       "        }#T_aa9340dc_ddbe_11ed_b33e_3cf01116e270row4_col14,#T_aa9340dc_ddbe_11ed_b33e_3cf01116e270row6_col2,#T_aa9340dc_ddbe_11ed_b33e_3cf01116e270row13_col14{\n",
       "            background-color:  #9abbff;\n",
       "            color:  #000000;\n",
       "        }#T_aa9340dc_ddbe_11ed_b33e_3cf01116e270row5_col2,#T_aa9340dc_ddbe_11ed_b33e_3cf01116e270row8_col5{\n",
       "            background-color:  #6e90f2;\n",
       "            color:  #000000;\n",
       "        }#T_aa9340dc_ddbe_11ed_b33e_3cf01116e270row5_col4,#T_aa9340dc_ddbe_11ed_b33e_3cf01116e270row14_col8{\n",
       "            background-color:  #a2c1ff;\n",
       "            color:  #000000;\n",
       "        }#T_aa9340dc_ddbe_11ed_b33e_3cf01116e270row5_col6,#T_aa9340dc_ddbe_11ed_b33e_3cf01116e270row11_col14,#T_aa9340dc_ddbe_11ed_b33e_3cf01116e270row14_col11{\n",
       "            background-color:  #4a63d3;\n",
       "            color:  #f1f1f1;\n",
       "        }#T_aa9340dc_ddbe_11ed_b33e_3cf01116e270row5_col7{\n",
       "            background-color:  #b1cbfc;\n",
       "            color:  #000000;\n",
       "        }#T_aa9340dc_ddbe_11ed_b33e_3cf01116e270row5_col9,#T_aa9340dc_ddbe_11ed_b33e_3cf01116e270row6_col9,#T_aa9340dc_ddbe_11ed_b33e_3cf01116e270row9_col3,#T_aa9340dc_ddbe_11ed_b33e_3cf01116e270row13_col9,#T_aa9340dc_ddbe_11ed_b33e_3cf01116e270row14_col9{\n",
       "            background-color:  #7699f6;\n",
       "            color:  #000000;\n",
       "        }#T_aa9340dc_ddbe_11ed_b33e_3cf01116e270row5_col10,#T_aa9340dc_ddbe_11ed_b33e_3cf01116e270row7_col5{\n",
       "            background-color:  #97b8ff;\n",
       "            color:  #000000;\n",
       "        }#T_aa9340dc_ddbe_11ed_b33e_3cf01116e270row5_col11{\n",
       "            background-color:  #4b64d5;\n",
       "            color:  #f1f1f1;\n",
       "        }#T_aa9340dc_ddbe_11ed_b33e_3cf01116e270row5_col12{\n",
       "            background-color:  #dfdbd9;\n",
       "            color:  #000000;\n",
       "        }#T_aa9340dc_ddbe_11ed_b33e_3cf01116e270row5_col13{\n",
       "            background-color:  #a9c6fd;\n",
       "            color:  #000000;\n",
       "        }#T_aa9340dc_ddbe_11ed_b33e_3cf01116e270row5_col14{\n",
       "            background-color:  #f39778;\n",
       "            color:  #000000;\n",
       "        }#T_aa9340dc_ddbe_11ed_b33e_3cf01116e270row6_col0,#T_aa9340dc_ddbe_11ed_b33e_3cf01116e270row8_col10,#T_aa9340dc_ddbe_11ed_b33e_3cf01116e270row12_col0{\n",
       "            background-color:  #6687ed;\n",
       "            color:  #000000;\n",
       "        }#T_aa9340dc_ddbe_11ed_b33e_3cf01116e270row6_col1{\n",
       "            background-color:  #9dbdff;\n",
       "            color:  #000000;\n",
       "        }#T_aa9340dc_ddbe_11ed_b33e_3cf01116e270row6_col3{\n",
       "            background-color:  #cedaeb;\n",
       "            color:  #000000;\n",
       "        }#T_aa9340dc_ddbe_11ed_b33e_3cf01116e270row6_col4{\n",
       "            background-color:  #d3dbe7;\n",
       "            color:  #000000;\n",
       "        }#T_aa9340dc_ddbe_11ed_b33e_3cf01116e270row6_col7,#T_aa9340dc_ddbe_11ed_b33e_3cf01116e270row8_col12{\n",
       "            background-color:  #f4c5ad;\n",
       "            color:  #000000;\n",
       "        }#T_aa9340dc_ddbe_11ed_b33e_3cf01116e270row6_col8{\n",
       "            background-color:  #f4c6af;\n",
       "            color:  #000000;\n",
       "        }#T_aa9340dc_ddbe_11ed_b33e_3cf01116e270row6_col10,#T_aa9340dc_ddbe_11ed_b33e_3cf01116e270row13_col6{\n",
       "            background-color:  #a6c4fe;\n",
       "            color:  #000000;\n",
       "        }#T_aa9340dc_ddbe_11ed_b33e_3cf01116e270row6_col12{\n",
       "            background-color:  #ccd9ed;\n",
       "            color:  #000000;\n",
       "        }#T_aa9340dc_ddbe_11ed_b33e_3cf01116e270row6_col13{\n",
       "            background-color:  #cbd8ee;\n",
       "            color:  #000000;\n",
       "        }#T_aa9340dc_ddbe_11ed_b33e_3cf01116e270row7_col1{\n",
       "            background-color:  #f5c4ac;\n",
       "            color:  #000000;\n",
       "        }#T_aa9340dc_ddbe_11ed_b33e_3cf01116e270row7_col2,#T_aa9340dc_ddbe_11ed_b33e_3cf01116e270row7_col6{\n",
       "            background-color:  #e9d5cb;\n",
       "            color:  #000000;\n",
       "        }#T_aa9340dc_ddbe_11ed_b33e_3cf01116e270row7_col4{\n",
       "            background-color:  #d75445;\n",
       "            color:  #000000;\n",
       "        }#T_aa9340dc_ddbe_11ed_b33e_3cf01116e270row7_col8{\n",
       "            background-color:  #edd1c2;\n",
       "            color:  #000000;\n",
       "        }#T_aa9340dc_ddbe_11ed_b33e_3cf01116e270row7_col10{\n",
       "            background-color:  #799cf8;\n",
       "            color:  #000000;\n",
       "        }#T_aa9340dc_ddbe_11ed_b33e_3cf01116e270row7_col13{\n",
       "            background-color:  #ef886b;\n",
       "            color:  #000000;\n",
       "        }#T_aa9340dc_ddbe_11ed_b33e_3cf01116e270row8_col0{\n",
       "            background-color:  #6788ee;\n",
       "            color:  #000000;\n",
       "        }#T_aa9340dc_ddbe_11ed_b33e_3cf01116e270row8_col1,#T_aa9340dc_ddbe_11ed_b33e_3cf01116e270row11_col6{\n",
       "            background-color:  #5a78e4;\n",
       "            color:  #000000;\n",
       "        }#T_aa9340dc_ddbe_11ed_b33e_3cf01116e270row8_col3{\n",
       "            background-color:  #d1dae9;\n",
       "            color:  #000000;\n",
       "        }#T_aa9340dc_ddbe_11ed_b33e_3cf01116e270row8_col4{\n",
       "            background-color:  #cad8ef;\n",
       "            color:  #000000;\n",
       "        }#T_aa9340dc_ddbe_11ed_b33e_3cf01116e270row8_col6{\n",
       "            background-color:  #e1dad6;\n",
       "            color:  #000000;\n",
       "        }#T_aa9340dc_ddbe_11ed_b33e_3cf01116e270row8_col13,#T_aa9340dc_ddbe_11ed_b33e_3cf01116e270row13_col2{\n",
       "            background-color:  #d6dce4;\n",
       "            color:  #000000;\n",
       "        }#T_aa9340dc_ddbe_11ed_b33e_3cf01116e270row8_col14{\n",
       "            background-color:  #779af7;\n",
       "            color:  #000000;\n",
       "        }#T_aa9340dc_ddbe_11ed_b33e_3cf01116e270row9_col2{\n",
       "            background-color:  #6a8bef;\n",
       "            color:  #000000;\n",
       "        }#T_aa9340dc_ddbe_11ed_b33e_3cf01116e270row9_col4{\n",
       "            background-color:  #80a3fa;\n",
       "            color:  #000000;\n",
       "        }#T_aa9340dc_ddbe_11ed_b33e_3cf01116e270row9_col6{\n",
       "            background-color:  #4c66d6;\n",
       "            color:  #000000;\n",
       "        }#T_aa9340dc_ddbe_11ed_b33e_3cf01116e270row9_col8{\n",
       "            background-color:  #5673e0;\n",
       "            color:  #000000;\n",
       "        }#T_aa9340dc_ddbe_11ed_b33e_3cf01116e270row9_col12{\n",
       "            background-color:  #a3c2fe;\n",
       "            color:  #000000;\n",
       "        }#T_aa9340dc_ddbe_11ed_b33e_3cf01116e270row9_col14,#T_aa9340dc_ddbe_11ed_b33e_3cf01116e270row14_col1{\n",
       "            background-color:  #6384eb;\n",
       "            color:  #000000;\n",
       "        }#T_aa9340dc_ddbe_11ed_b33e_3cf01116e270row10_col11,#T_aa9340dc_ddbe_11ed_b33e_3cf01116e270row14_col7,#T_aa9340dc_ddbe_11ed_b33e_3cf01116e270row14_col13{\n",
       "            background-color:  #b3cdfb;\n",
       "            color:  #000000;\n",
       "        }#T_aa9340dc_ddbe_11ed_b33e_3cf01116e270row11_col1{\n",
       "            background-color:  #adc9fd;\n",
       "            color:  #000000;\n",
       "        }#T_aa9340dc_ddbe_11ed_b33e_3cf01116e270row11_col4,#T_aa9340dc_ddbe_11ed_b33e_3cf01116e270row11_col9{\n",
       "            background-color:  #7ea1fa;\n",
       "            color:  #000000;\n",
       "        }#T_aa9340dc_ddbe_11ed_b33e_3cf01116e270row11_col5{\n",
       "            background-color:  #465ecf;\n",
       "            color:  #f1f1f1;\n",
       "        }#T_aa9340dc_ddbe_11ed_b33e_3cf01116e270row11_col10{\n",
       "            background-color:  #e4d9d2;\n",
       "            color:  #000000;\n",
       "        }#T_aa9340dc_ddbe_11ed_b33e_3cf01116e270row11_col13{\n",
       "            background-color:  #8fb1fe;\n",
       "            color:  #000000;\n",
       "        }#T_aa9340dc_ddbe_11ed_b33e_3cf01116e270row12_col2{\n",
       "            background-color:  #8caffe;\n",
       "            color:  #000000;\n",
       "        }#T_aa9340dc_ddbe_11ed_b33e_3cf01116e270row12_col3{\n",
       "            background-color:  #90b2fe;\n",
       "            color:  #000000;\n",
       "        }#T_aa9340dc_ddbe_11ed_b33e_3cf01116e270row12_col4{\n",
       "            background-color:  #b6cefa;\n",
       "            color:  #000000;\n",
       "        }#T_aa9340dc_ddbe_11ed_b33e_3cf01116e270row12_col5,#T_aa9340dc_ddbe_11ed_b33e_3cf01116e270row14_col4{\n",
       "            background-color:  #a5c3fe;\n",
       "            color:  #000000;\n",
       "        }#T_aa9340dc_ddbe_11ed_b33e_3cf01116e270row12_col7,#T_aa9340dc_ddbe_11ed_b33e_3cf01116e270row12_col13{\n",
       "            background-color:  #d8dce2;\n",
       "            color:  #000000;\n",
       "        }#T_aa9340dc_ddbe_11ed_b33e_3cf01116e270row12_col8,#T_aa9340dc_ddbe_11ed_b33e_3cf01116e270row13_col3{\n",
       "            background-color:  #ebd3c6;\n",
       "            color:  #000000;\n",
       "        }#T_aa9340dc_ddbe_11ed_b33e_3cf01116e270row12_col11{\n",
       "            background-color:  #3d50c3;\n",
       "            color:  #f1f1f1;\n",
       "        }#T_aa9340dc_ddbe_11ed_b33e_3cf01116e270row12_col14{\n",
       "            background-color:  #afcafc;\n",
       "            color:  #000000;\n",
       "        }#T_aa9340dc_ddbe_11ed_b33e_3cf01116e270row13_col4{\n",
       "            background-color:  #ee8468;\n",
       "            color:  #000000;\n",
       "        }#T_aa9340dc_ddbe_11ed_b33e_3cf01116e270row13_col5{\n",
       "            background-color:  #8badfd;\n",
       "            color:  #000000;\n",
       "        }#T_aa9340dc_ddbe_11ed_b33e_3cf01116e270row13_col7{\n",
       "            background-color:  #f08a6c;\n",
       "            color:  #000000;\n",
       "        }#T_aa9340dc_ddbe_11ed_b33e_3cf01116e270row13_col8{\n",
       "            background-color:  #dcdddd;\n",
       "            color:  #000000;\n",
       "        }#T_aa9340dc_ddbe_11ed_b33e_3cf01116e270row13_col10{\n",
       "            background-color:  #7597f6;\n",
       "            color:  #000000;\n",
       "        }#T_aa9340dc_ddbe_11ed_b33e_3cf01116e270row13_col12{\n",
       "            background-color:  #eed0c0;\n",
       "            color:  #000000;\n",
       "        }#T_aa9340dc_ddbe_11ed_b33e_3cf01116e270row14_col6{\n",
       "            background-color:  #485fd1;\n",
       "            color:  #f1f1f1;\n",
       "        }</style><table id=\"T_aa9340dc_ddbe_11ed_b33e_3cf01116e270\" ><thead>    <tr>        <th class=\"blank level0\" ></th>        <th class=\"col_heading level0 col0\" >id</th>        <th class=\"col_heading level0 col1\" >price</th>        <th class=\"col_heading level0 col2\" >bedrooms</th>        <th class=\"col_heading level0 col3\" >bathrooms</th>        <th class=\"col_heading level0 col4\" >sqft_living</th>        <th class=\"col_heading level0 col5\" >sqft_lot</th>        <th class=\"col_heading level0 col6\" >floors</th>        <th class=\"col_heading level0 col7\" >sqft_above</th>        <th class=\"col_heading level0 col8\" >yr_built</th>        <th class=\"col_heading level0 col9\" >yr_renovated</th>        <th class=\"col_heading level0 col10\" >zipcode</th>        <th class=\"col_heading level0 col11\" >lat</th>        <th class=\"col_heading level0 col12\" >long</th>        <th class=\"col_heading level0 col13\" >sqft_living15</th>        <th class=\"col_heading level0 col14\" >sqft_lot15</th>    </tr></thead><tbody>\n",
       "                <tr>\n",
       "                        <th id=\"T_aa9340dc_ddbe_11ed_b33e_3cf01116e270level0_row0\" class=\"row_heading level0 row0\" >id</th>\n",
       "                        <td id=\"T_aa9340dc_ddbe_11ed_b33e_3cf01116e270row0_col0\" class=\"data row0 col0\" >1.00</td>\n",
       "                        <td id=\"T_aa9340dc_ddbe_11ed_b33e_3cf01116e270row0_col1\" class=\"data row0 col1\" >-0.02</td>\n",
       "                        <td id=\"T_aa9340dc_ddbe_11ed_b33e_3cf01116e270row0_col2\" class=\"data row0 col2\" >0.00</td>\n",
       "                        <td id=\"T_aa9340dc_ddbe_11ed_b33e_3cf01116e270row0_col3\" class=\"data row0 col3\" >-0.01</td>\n",
       "                        <td id=\"T_aa9340dc_ddbe_11ed_b33e_3cf01116e270row0_col4\" class=\"data row0 col4\" >-0.01</td>\n",
       "                        <td id=\"T_aa9340dc_ddbe_11ed_b33e_3cf01116e270row0_col5\" class=\"data row0 col5\" >-0.13</td>\n",
       "                        <td id=\"T_aa9340dc_ddbe_11ed_b33e_3cf01116e270row0_col6\" class=\"data row0 col6\" >0.02</td>\n",
       "                        <td id=\"T_aa9340dc_ddbe_11ed_b33e_3cf01116e270row0_col7\" class=\"data row0 col7\" >-0.01</td>\n",
       "                        <td id=\"T_aa9340dc_ddbe_11ed_b33e_3cf01116e270row0_col8\" class=\"data row0 col8\" >0.02</td>\n",
       "                        <td id=\"T_aa9340dc_ddbe_11ed_b33e_3cf01116e270row0_col9\" class=\"data row0 col9\" >-0.01</td>\n",
       "                        <td id=\"T_aa9340dc_ddbe_11ed_b33e_3cf01116e270row0_col10\" class=\"data row0 col10\" >-0.01</td>\n",
       "                        <td id=\"T_aa9340dc_ddbe_11ed_b33e_3cf01116e270row0_col11\" class=\"data row0 col11\" >-0.00</td>\n",
       "                        <td id=\"T_aa9340dc_ddbe_11ed_b33e_3cf01116e270row0_col12\" class=\"data row0 col12\" >0.02</td>\n",
       "                        <td id=\"T_aa9340dc_ddbe_11ed_b33e_3cf01116e270row0_col13\" class=\"data row0 col13\" >-0.00</td>\n",
       "                        <td id=\"T_aa9340dc_ddbe_11ed_b33e_3cf01116e270row0_col14\" class=\"data row0 col14\" >-0.14</td>\n",
       "            </tr>\n",
       "            <tr>\n",
       "                        <th id=\"T_aa9340dc_ddbe_11ed_b33e_3cf01116e270level0_row1\" class=\"row_heading level0 row1\" >price</th>\n",
       "                        <td id=\"T_aa9340dc_ddbe_11ed_b33e_3cf01116e270row1_col0\" class=\"data row1 col0\" >-0.02</td>\n",
       "                        <td id=\"T_aa9340dc_ddbe_11ed_b33e_3cf01116e270row1_col1\" class=\"data row1 col1\" >1.00</td>\n",
       "                        <td id=\"T_aa9340dc_ddbe_11ed_b33e_3cf01116e270row1_col2\" class=\"data row1 col2\" >0.31</td>\n",
       "                        <td id=\"T_aa9340dc_ddbe_11ed_b33e_3cf01116e270row1_col3\" class=\"data row1 col3\" >0.52</td>\n",
       "                        <td id=\"T_aa9340dc_ddbe_11ed_b33e_3cf01116e270row1_col4\" class=\"data row1 col4\" >0.70</td>\n",
       "                        <td id=\"T_aa9340dc_ddbe_11ed_b33e_3cf01116e270row1_col5\" class=\"data row1 col5\" >0.09</td>\n",
       "                        <td id=\"T_aa9340dc_ddbe_11ed_b33e_3cf01116e270row1_col6\" class=\"data row1 col6\" >0.26</td>\n",
       "                        <td id=\"T_aa9340dc_ddbe_11ed_b33e_3cf01116e270row1_col7\" class=\"data row1 col7\" >0.61</td>\n",
       "                        <td id=\"T_aa9340dc_ddbe_11ed_b33e_3cf01116e270row1_col8\" class=\"data row1 col8\" >0.05</td>\n",
       "                        <td id=\"T_aa9340dc_ddbe_11ed_b33e_3cf01116e270row1_col9\" class=\"data row1 col9\" >0.13</td>\n",
       "                        <td id=\"T_aa9340dc_ddbe_11ed_b33e_3cf01116e270row1_col10\" class=\"data row1 col10\" >-0.05</td>\n",
       "                        <td id=\"T_aa9340dc_ddbe_11ed_b33e_3cf01116e270row1_col11\" class=\"data row1 col11\" >0.31</td>\n",
       "                        <td id=\"T_aa9340dc_ddbe_11ed_b33e_3cf01116e270row1_col12\" class=\"data row1 col12\" >0.02</td>\n",
       "                        <td id=\"T_aa9340dc_ddbe_11ed_b33e_3cf01116e270row1_col13\" class=\"data row1 col13\" >0.59</td>\n",
       "                        <td id=\"T_aa9340dc_ddbe_11ed_b33e_3cf01116e270row1_col14\" class=\"data row1 col14\" >0.08</td>\n",
       "            </tr>\n",
       "            <tr>\n",
       "                        <th id=\"T_aa9340dc_ddbe_11ed_b33e_3cf01116e270level0_row2\" class=\"row_heading level0 row2\" >bedrooms</th>\n",
       "                        <td id=\"T_aa9340dc_ddbe_11ed_b33e_3cf01116e270row2_col0\" class=\"data row2 col0\" >0.00</td>\n",
       "                        <td id=\"T_aa9340dc_ddbe_11ed_b33e_3cf01116e270row2_col1\" class=\"data row2 col1\" >0.31</td>\n",
       "                        <td id=\"T_aa9340dc_ddbe_11ed_b33e_3cf01116e270row2_col2\" class=\"data row2 col2\" >1.00</td>\n",
       "                        <td id=\"T_aa9340dc_ddbe_11ed_b33e_3cf01116e270row2_col3\" class=\"data row2 col3\" >0.49</td>\n",
       "                        <td id=\"T_aa9340dc_ddbe_11ed_b33e_3cf01116e270row2_col4\" class=\"data row2 col4\" >0.58</td>\n",
       "                        <td id=\"T_aa9340dc_ddbe_11ed_b33e_3cf01116e270row2_col5\" class=\"data row2 col5\" >0.03</td>\n",
       "                        <td id=\"T_aa9340dc_ddbe_11ed_b33e_3cf01116e270row2_col6\" class=\"data row2 col6\" >0.18</td>\n",
       "                        <td id=\"T_aa9340dc_ddbe_11ed_b33e_3cf01116e270row2_col7\" class=\"data row2 col7\" >0.48</td>\n",
       "                        <td id=\"T_aa9340dc_ddbe_11ed_b33e_3cf01116e270row2_col8\" class=\"data row2 col8\" >0.16</td>\n",
       "                        <td id=\"T_aa9340dc_ddbe_11ed_b33e_3cf01116e270row2_col9\" class=\"data row2 col9\" >0.02</td>\n",
       "                        <td id=\"T_aa9340dc_ddbe_11ed_b33e_3cf01116e270row2_col10\" class=\"data row2 col10\" >-0.15</td>\n",
       "                        <td id=\"T_aa9340dc_ddbe_11ed_b33e_3cf01116e270row2_col11\" class=\"data row2 col11\" >-0.01</td>\n",
       "                        <td id=\"T_aa9340dc_ddbe_11ed_b33e_3cf01116e270row2_col12\" class=\"data row2 col12\" >0.13</td>\n",
       "                        <td id=\"T_aa9340dc_ddbe_11ed_b33e_3cf01116e270row2_col13\" class=\"data row2 col13\" >0.39</td>\n",
       "                        <td id=\"T_aa9340dc_ddbe_11ed_b33e_3cf01116e270row2_col14\" class=\"data row2 col14\" >0.03</td>\n",
       "            </tr>\n",
       "            <tr>\n",
       "                        <th id=\"T_aa9340dc_ddbe_11ed_b33e_3cf01116e270level0_row3\" class=\"row_heading level0 row3\" >bathrooms</th>\n",
       "                        <td id=\"T_aa9340dc_ddbe_11ed_b33e_3cf01116e270row3_col0\" class=\"data row3 col0\" >-0.01</td>\n",
       "                        <td id=\"T_aa9340dc_ddbe_11ed_b33e_3cf01116e270row3_col1\" class=\"data row3 col1\" >0.52</td>\n",
       "                        <td id=\"T_aa9340dc_ddbe_11ed_b33e_3cf01116e270row3_col2\" class=\"data row3 col2\" >0.49</td>\n",
       "                        <td id=\"T_aa9340dc_ddbe_11ed_b33e_3cf01116e270row3_col3\" class=\"data row3 col3\" >1.00</td>\n",
       "                        <td id=\"T_aa9340dc_ddbe_11ed_b33e_3cf01116e270row3_col4\" class=\"data row3 col4\" >0.70</td>\n",
       "                        <td id=\"T_aa9340dc_ddbe_11ed_b33e_3cf01116e270row3_col5\" class=\"data row3 col5\" >0.09</td>\n",
       "                        <td id=\"T_aa9340dc_ddbe_11ed_b33e_3cf01116e270row3_col6\" class=\"data row3 col6\" >0.37</td>\n",
       "                        <td id=\"T_aa9340dc_ddbe_11ed_b33e_3cf01116e270row3_col7\" class=\"data row3 col7\" >0.60</td>\n",
       "                        <td id=\"T_aa9340dc_ddbe_11ed_b33e_3cf01116e270row3_col8\" class=\"data row3 col8\" >0.38</td>\n",
       "                        <td id=\"T_aa9340dc_ddbe_11ed_b33e_3cf01116e270row3_col9\" class=\"data row3 col9\" >0.07</td>\n",
       "                        <td id=\"T_aa9340dc_ddbe_11ed_b33e_3cf01116e270row3_col10\" class=\"data row3 col10\" >-0.14</td>\n",
       "                        <td id=\"T_aa9340dc_ddbe_11ed_b33e_3cf01116e270row3_col11\" class=\"data row3 col11\" >0.05</td>\n",
       "                        <td id=\"T_aa9340dc_ddbe_11ed_b33e_3cf01116e270row3_col12\" class=\"data row3 col12\" >0.15</td>\n",
       "                        <td id=\"T_aa9340dc_ddbe_11ed_b33e_3cf01116e270row3_col13\" class=\"data row3 col13\" >0.50</td>\n",
       "                        <td id=\"T_aa9340dc_ddbe_11ed_b33e_3cf01116e270row3_col14\" class=\"data row3 col14\" >0.09</td>\n",
       "            </tr>\n",
       "            <tr>\n",
       "                        <th id=\"T_aa9340dc_ddbe_11ed_b33e_3cf01116e270level0_row4\" class=\"row_heading level0 row4\" >sqft_living</th>\n",
       "                        <td id=\"T_aa9340dc_ddbe_11ed_b33e_3cf01116e270row4_col0\" class=\"data row4 col0\" >-0.01</td>\n",
       "                        <td id=\"T_aa9340dc_ddbe_11ed_b33e_3cf01116e270row4_col1\" class=\"data row4 col1\" >0.70</td>\n",
       "                        <td id=\"T_aa9340dc_ddbe_11ed_b33e_3cf01116e270row4_col2\" class=\"data row4 col2\" >0.58</td>\n",
       "                        <td id=\"T_aa9340dc_ddbe_11ed_b33e_3cf01116e270row4_col3\" class=\"data row4 col3\" >0.70</td>\n",
       "                        <td id=\"T_aa9340dc_ddbe_11ed_b33e_3cf01116e270row4_col4\" class=\"data row4 col4\" >1.00</td>\n",
       "                        <td id=\"T_aa9340dc_ddbe_11ed_b33e_3cf01116e270row4_col5\" class=\"data row4 col5\" >0.17</td>\n",
       "                        <td id=\"T_aa9340dc_ddbe_11ed_b33e_3cf01116e270row4_col6\" class=\"data row4 col6\" >0.35</td>\n",
       "                        <td id=\"T_aa9340dc_ddbe_11ed_b33e_3cf01116e270row4_col7\" class=\"data row4 col7\" >0.88</td>\n",
       "                        <td id=\"T_aa9340dc_ddbe_11ed_b33e_3cf01116e270row4_col8\" class=\"data row4 col8\" >0.32</td>\n",
       "                        <td id=\"T_aa9340dc_ddbe_11ed_b33e_3cf01116e270row4_col9\" class=\"data row4 col9\" >0.06</td>\n",
       "                        <td id=\"T_aa9340dc_ddbe_11ed_b33e_3cf01116e270row4_col10\" class=\"data row4 col10\" >-0.20</td>\n",
       "                        <td id=\"T_aa9340dc_ddbe_11ed_b33e_3cf01116e270row4_col11\" class=\"data row4 col11\" >0.05</td>\n",
       "                        <td id=\"T_aa9340dc_ddbe_11ed_b33e_3cf01116e270row4_col12\" class=\"data row4 col12\" >0.24</td>\n",
       "                        <td id=\"T_aa9340dc_ddbe_11ed_b33e_3cf01116e270row4_col13\" class=\"data row4 col13\" >0.76</td>\n",
       "                        <td id=\"T_aa9340dc_ddbe_11ed_b33e_3cf01116e270row4_col14\" class=\"data row4 col14\" >0.18</td>\n",
       "            </tr>\n",
       "            <tr>\n",
       "                        <th id=\"T_aa9340dc_ddbe_11ed_b33e_3cf01116e270level0_row5\" class=\"row_heading level0 row5\" >sqft_lot</th>\n",
       "                        <td id=\"T_aa9340dc_ddbe_11ed_b33e_3cf01116e270row5_col0\" class=\"data row5 col0\" >-0.13</td>\n",
       "                        <td id=\"T_aa9340dc_ddbe_11ed_b33e_3cf01116e270row5_col1\" class=\"data row5 col1\" >0.09</td>\n",
       "                        <td id=\"T_aa9340dc_ddbe_11ed_b33e_3cf01116e270row5_col2\" class=\"data row5 col2\" >0.03</td>\n",
       "                        <td id=\"T_aa9340dc_ddbe_11ed_b33e_3cf01116e270row5_col3\" class=\"data row5 col3\" >0.09</td>\n",
       "                        <td id=\"T_aa9340dc_ddbe_11ed_b33e_3cf01116e270row5_col4\" class=\"data row5 col4\" >0.17</td>\n",
       "                        <td id=\"T_aa9340dc_ddbe_11ed_b33e_3cf01116e270row5_col5\" class=\"data row5 col5\" >1.00</td>\n",
       "                        <td id=\"T_aa9340dc_ddbe_11ed_b33e_3cf01116e270row5_col6\" class=\"data row5 col6\" >-0.00</td>\n",
       "                        <td id=\"T_aa9340dc_ddbe_11ed_b33e_3cf01116e270row5_col7\" class=\"data row5 col7\" >0.18</td>\n",
       "                        <td id=\"T_aa9340dc_ddbe_11ed_b33e_3cf01116e270row5_col8\" class=\"data row5 col8\" >0.05</td>\n",
       "                        <td id=\"T_aa9340dc_ddbe_11ed_b33e_3cf01116e270row5_col9\" class=\"data row5 col9\" >0.00</td>\n",
       "                        <td id=\"T_aa9340dc_ddbe_11ed_b33e_3cf01116e270row5_col10\" class=\"data row5 col10\" >-0.13</td>\n",
       "                        <td id=\"T_aa9340dc_ddbe_11ed_b33e_3cf01116e270row5_col11\" class=\"data row5 col11\" >-0.09</td>\n",
       "                        <td id=\"T_aa9340dc_ddbe_11ed_b33e_3cf01116e270row5_col12\" class=\"data row5 col12\" >0.23</td>\n",
       "                        <td id=\"T_aa9340dc_ddbe_11ed_b33e_3cf01116e270row5_col13\" class=\"data row5 col13\" >0.14</td>\n",
       "                        <td id=\"T_aa9340dc_ddbe_11ed_b33e_3cf01116e270row5_col14\" class=\"data row5 col14\" >0.72</td>\n",
       "            </tr>\n",
       "            <tr>\n",
       "                        <th id=\"T_aa9340dc_ddbe_11ed_b33e_3cf01116e270level0_row6\" class=\"row_heading level0 row6\" >floors</th>\n",
       "                        <td id=\"T_aa9340dc_ddbe_11ed_b33e_3cf01116e270row6_col0\" class=\"data row6 col0\" >0.02</td>\n",
       "                        <td id=\"T_aa9340dc_ddbe_11ed_b33e_3cf01116e270row6_col1\" class=\"data row6 col1\" >0.26</td>\n",
       "                        <td id=\"T_aa9340dc_ddbe_11ed_b33e_3cf01116e270row6_col2\" class=\"data row6 col2\" >0.18</td>\n",
       "                        <td id=\"T_aa9340dc_ddbe_11ed_b33e_3cf01116e270row6_col3\" class=\"data row6 col3\" >0.37</td>\n",
       "                        <td id=\"T_aa9340dc_ddbe_11ed_b33e_3cf01116e270row6_col4\" class=\"data row6 col4\" >0.35</td>\n",
       "                        <td id=\"T_aa9340dc_ddbe_11ed_b33e_3cf01116e270row6_col5\" class=\"data row6 col5\" >-0.00</td>\n",
       "                        <td id=\"T_aa9340dc_ddbe_11ed_b33e_3cf01116e270row6_col6\" class=\"data row6 col6\" >1.00</td>\n",
       "                        <td id=\"T_aa9340dc_ddbe_11ed_b33e_3cf01116e270row6_col7\" class=\"data row6 col7\" >0.52</td>\n",
       "                        <td id=\"T_aa9340dc_ddbe_11ed_b33e_3cf01116e270row6_col8\" class=\"data row6 col8\" >0.49</td>\n",
       "                        <td id=\"T_aa9340dc_ddbe_11ed_b33e_3cf01116e270row6_col9\" class=\"data row6 col9\" >0.00</td>\n",
       "                        <td id=\"T_aa9340dc_ddbe_11ed_b33e_3cf01116e270row6_col10\" class=\"data row6 col10\" >-0.06</td>\n",
       "                        <td id=\"T_aa9340dc_ddbe_11ed_b33e_3cf01116e270row6_col11\" class=\"data row6 col11\" >0.05</td>\n",
       "                        <td id=\"T_aa9340dc_ddbe_11ed_b33e_3cf01116e270row6_col12\" class=\"data row6 col12\" >0.13</td>\n",
       "                        <td id=\"T_aa9340dc_ddbe_11ed_b33e_3cf01116e270row6_col13\" class=\"data row6 col13\" >0.28</td>\n",
       "                        <td id=\"T_aa9340dc_ddbe_11ed_b33e_3cf01116e270row6_col14\" class=\"data row6 col14\" >-0.01</td>\n",
       "            </tr>\n",
       "            <tr>\n",
       "                        <th id=\"T_aa9340dc_ddbe_11ed_b33e_3cf01116e270level0_row7\" class=\"row_heading level0 row7\" >sqft_above</th>\n",
       "                        <td id=\"T_aa9340dc_ddbe_11ed_b33e_3cf01116e270row7_col0\" class=\"data row7 col0\" >-0.01</td>\n",
       "                        <td id=\"T_aa9340dc_ddbe_11ed_b33e_3cf01116e270row7_col1\" class=\"data row7 col1\" >0.61</td>\n",
       "                        <td id=\"T_aa9340dc_ddbe_11ed_b33e_3cf01116e270row7_col2\" class=\"data row7 col2\" >0.48</td>\n",
       "                        <td id=\"T_aa9340dc_ddbe_11ed_b33e_3cf01116e270row7_col3\" class=\"data row7 col3\" >0.60</td>\n",
       "                        <td id=\"T_aa9340dc_ddbe_11ed_b33e_3cf01116e270row7_col4\" class=\"data row7 col4\" >0.88</td>\n",
       "                        <td id=\"T_aa9340dc_ddbe_11ed_b33e_3cf01116e270row7_col5\" class=\"data row7 col5\" >0.18</td>\n",
       "                        <td id=\"T_aa9340dc_ddbe_11ed_b33e_3cf01116e270row7_col6\" class=\"data row7 col6\" >0.52</td>\n",
       "                        <td id=\"T_aa9340dc_ddbe_11ed_b33e_3cf01116e270row7_col7\" class=\"data row7 col7\" >1.00</td>\n",
       "                        <td id=\"T_aa9340dc_ddbe_11ed_b33e_3cf01116e270row7_col8\" class=\"data row7 col8\" >0.42</td>\n",
       "                        <td id=\"T_aa9340dc_ddbe_11ed_b33e_3cf01116e270row7_col9\" class=\"data row7 col9\" >0.02</td>\n",
       "                        <td id=\"T_aa9340dc_ddbe_11ed_b33e_3cf01116e270row7_col10\" class=\"data row7 col10\" >-0.26</td>\n",
       "                        <td id=\"T_aa9340dc_ddbe_11ed_b33e_3cf01116e270row7_col11\" class=\"data row7 col11\" >-0.00</td>\n",
       "                        <td id=\"T_aa9340dc_ddbe_11ed_b33e_3cf01116e270row7_col12\" class=\"data row7 col12\" >0.34</td>\n",
       "                        <td id=\"T_aa9340dc_ddbe_11ed_b33e_3cf01116e270row7_col13\" class=\"data row7 col13\" >0.73</td>\n",
       "                        <td id=\"T_aa9340dc_ddbe_11ed_b33e_3cf01116e270row7_col14\" class=\"data row7 col14\" >0.20</td>\n",
       "            </tr>\n",
       "            <tr>\n",
       "                        <th id=\"T_aa9340dc_ddbe_11ed_b33e_3cf01116e270level0_row8\" class=\"row_heading level0 row8\" >yr_built</th>\n",
       "                        <td id=\"T_aa9340dc_ddbe_11ed_b33e_3cf01116e270row8_col0\" class=\"data row8 col0\" >0.02</td>\n",
       "                        <td id=\"T_aa9340dc_ddbe_11ed_b33e_3cf01116e270row8_col1\" class=\"data row8 col1\" >0.05</td>\n",
       "                        <td id=\"T_aa9340dc_ddbe_11ed_b33e_3cf01116e270row8_col2\" class=\"data row8 col2\" >0.16</td>\n",
       "                        <td id=\"T_aa9340dc_ddbe_11ed_b33e_3cf01116e270row8_col3\" class=\"data row8 col3\" >0.38</td>\n",
       "                        <td id=\"T_aa9340dc_ddbe_11ed_b33e_3cf01116e270row8_col4\" class=\"data row8 col4\" >0.32</td>\n",
       "                        <td id=\"T_aa9340dc_ddbe_11ed_b33e_3cf01116e270row8_col5\" class=\"data row8 col5\" >0.05</td>\n",
       "                        <td id=\"T_aa9340dc_ddbe_11ed_b33e_3cf01116e270row8_col6\" class=\"data row8 col6\" >0.49</td>\n",
       "                        <td id=\"T_aa9340dc_ddbe_11ed_b33e_3cf01116e270row8_col7\" class=\"data row8 col7\" >0.42</td>\n",
       "                        <td id=\"T_aa9340dc_ddbe_11ed_b33e_3cf01116e270row8_col8\" class=\"data row8 col8\" >1.00</td>\n",
       "                        <td id=\"T_aa9340dc_ddbe_11ed_b33e_3cf01116e270row8_col9\" class=\"data row8 col9\" >-0.23</td>\n",
       "                        <td id=\"T_aa9340dc_ddbe_11ed_b33e_3cf01116e270row8_col10\" class=\"data row8 col10\" >-0.35</td>\n",
       "                        <td id=\"T_aa9340dc_ddbe_11ed_b33e_3cf01116e270row8_col11\" class=\"data row8 col11\" >-0.15</td>\n",
       "                        <td id=\"T_aa9340dc_ddbe_11ed_b33e_3cf01116e270row8_col12\" class=\"data row8 col12\" >0.41</td>\n",
       "                        <td id=\"T_aa9340dc_ddbe_11ed_b33e_3cf01116e270row8_col13\" class=\"data row8 col13\" >0.33</td>\n",
       "                        <td id=\"T_aa9340dc_ddbe_11ed_b33e_3cf01116e270row8_col14\" class=\"data row8 col14\" >0.07</td>\n",
       "            </tr>\n",
       "            <tr>\n",
       "                        <th id=\"T_aa9340dc_ddbe_11ed_b33e_3cf01116e270level0_row9\" class=\"row_heading level0 row9\" >yr_renovated</th>\n",
       "                        <td id=\"T_aa9340dc_ddbe_11ed_b33e_3cf01116e270row9_col0\" class=\"data row9 col0\" >-0.01</td>\n",
       "                        <td id=\"T_aa9340dc_ddbe_11ed_b33e_3cf01116e270row9_col1\" class=\"data row9 col1\" >0.13</td>\n",
       "                        <td id=\"T_aa9340dc_ddbe_11ed_b33e_3cf01116e270row9_col2\" class=\"data row9 col2\" >0.02</td>\n",
       "                        <td id=\"T_aa9340dc_ddbe_11ed_b33e_3cf01116e270row9_col3\" class=\"data row9 col3\" >0.07</td>\n",
       "                        <td id=\"T_aa9340dc_ddbe_11ed_b33e_3cf01116e270row9_col4\" class=\"data row9 col4\" >0.06</td>\n",
       "                        <td id=\"T_aa9340dc_ddbe_11ed_b33e_3cf01116e270row9_col5\" class=\"data row9 col5\" >0.00</td>\n",
       "                        <td id=\"T_aa9340dc_ddbe_11ed_b33e_3cf01116e270row9_col6\" class=\"data row9 col6\" >0.00</td>\n",
       "                        <td id=\"T_aa9340dc_ddbe_11ed_b33e_3cf01116e270row9_col7\" class=\"data row9 col7\" >0.02</td>\n",
       "                        <td id=\"T_aa9340dc_ddbe_11ed_b33e_3cf01116e270row9_col8\" class=\"data row9 col8\" >-0.23</td>\n",
       "                        <td id=\"T_aa9340dc_ddbe_11ed_b33e_3cf01116e270row9_col9\" class=\"data row9 col9\" >1.00</td>\n",
       "                        <td id=\"T_aa9340dc_ddbe_11ed_b33e_3cf01116e270row9_col10\" class=\"data row9 col10\" >0.07</td>\n",
       "                        <td id=\"T_aa9340dc_ddbe_11ed_b33e_3cf01116e270row9_col11\" class=\"data row9 col11\" >0.03</td>\n",
       "                        <td id=\"T_aa9340dc_ddbe_11ed_b33e_3cf01116e270row9_col12\" class=\"data row9 col12\" >-0.07</td>\n",
       "                        <td id=\"T_aa9340dc_ddbe_11ed_b33e_3cf01116e270row9_col13\" class=\"data row9 col13\" >-0.00</td>\n",
       "                        <td id=\"T_aa9340dc_ddbe_11ed_b33e_3cf01116e270row9_col14\" class=\"data row9 col14\" >0.00</td>\n",
       "            </tr>\n",
       "            <tr>\n",
       "                        <th id=\"T_aa9340dc_ddbe_11ed_b33e_3cf01116e270level0_row10\" class=\"row_heading level0 row10\" >zipcode</th>\n",
       "                        <td id=\"T_aa9340dc_ddbe_11ed_b33e_3cf01116e270row10_col0\" class=\"data row10 col0\" >-0.01</td>\n",
       "                        <td id=\"T_aa9340dc_ddbe_11ed_b33e_3cf01116e270row10_col1\" class=\"data row10 col1\" >-0.05</td>\n",
       "                        <td id=\"T_aa9340dc_ddbe_11ed_b33e_3cf01116e270row10_col2\" class=\"data row10 col2\" >-0.15</td>\n",
       "                        <td id=\"T_aa9340dc_ddbe_11ed_b33e_3cf01116e270row10_col3\" class=\"data row10 col3\" >-0.14</td>\n",
       "                        <td id=\"T_aa9340dc_ddbe_11ed_b33e_3cf01116e270row10_col4\" class=\"data row10 col4\" >-0.20</td>\n",
       "                        <td id=\"T_aa9340dc_ddbe_11ed_b33e_3cf01116e270row10_col5\" class=\"data row10 col5\" >-0.13</td>\n",
       "                        <td id=\"T_aa9340dc_ddbe_11ed_b33e_3cf01116e270row10_col6\" class=\"data row10 col6\" >-0.06</td>\n",
       "                        <td id=\"T_aa9340dc_ddbe_11ed_b33e_3cf01116e270row10_col7\" class=\"data row10 col7\" >-0.26</td>\n",
       "                        <td id=\"T_aa9340dc_ddbe_11ed_b33e_3cf01116e270row10_col8\" class=\"data row10 col8\" >-0.35</td>\n",
       "                        <td id=\"T_aa9340dc_ddbe_11ed_b33e_3cf01116e270row10_col9\" class=\"data row10 col9\" >0.07</td>\n",
       "                        <td id=\"T_aa9340dc_ddbe_11ed_b33e_3cf01116e270row10_col10\" class=\"data row10 col10\" >1.00</td>\n",
       "                        <td id=\"T_aa9340dc_ddbe_11ed_b33e_3cf01116e270row10_col11\" class=\"data row10 col11\" >0.27</td>\n",
       "                        <td id=\"T_aa9340dc_ddbe_11ed_b33e_3cf01116e270row10_col12\" class=\"data row10 col12\" >-0.56</td>\n",
       "                        <td id=\"T_aa9340dc_ddbe_11ed_b33e_3cf01116e270row10_col13\" class=\"data row10 col13\" >-0.28</td>\n",
       "                        <td id=\"T_aa9340dc_ddbe_11ed_b33e_3cf01116e270row10_col14\" class=\"data row10 col14\" >-0.15</td>\n",
       "            </tr>\n",
       "            <tr>\n",
       "                        <th id=\"T_aa9340dc_ddbe_11ed_b33e_3cf01116e270level0_row11\" class=\"row_heading level0 row11\" >lat</th>\n",
       "                        <td id=\"T_aa9340dc_ddbe_11ed_b33e_3cf01116e270row11_col0\" class=\"data row11 col0\" >-0.00</td>\n",
       "                        <td id=\"T_aa9340dc_ddbe_11ed_b33e_3cf01116e270row11_col1\" class=\"data row11 col1\" >0.31</td>\n",
       "                        <td id=\"T_aa9340dc_ddbe_11ed_b33e_3cf01116e270row11_col2\" class=\"data row11 col2\" >-0.01</td>\n",
       "                        <td id=\"T_aa9340dc_ddbe_11ed_b33e_3cf01116e270row11_col3\" class=\"data row11 col3\" >0.05</td>\n",
       "                        <td id=\"T_aa9340dc_ddbe_11ed_b33e_3cf01116e270row11_col4\" class=\"data row11 col4\" >0.05</td>\n",
       "                        <td id=\"T_aa9340dc_ddbe_11ed_b33e_3cf01116e270row11_col5\" class=\"data row11 col5\" >-0.09</td>\n",
       "                        <td id=\"T_aa9340dc_ddbe_11ed_b33e_3cf01116e270row11_col6\" class=\"data row11 col6\" >0.05</td>\n",
       "                        <td id=\"T_aa9340dc_ddbe_11ed_b33e_3cf01116e270row11_col7\" class=\"data row11 col7\" >-0.00</td>\n",
       "                        <td id=\"T_aa9340dc_ddbe_11ed_b33e_3cf01116e270row11_col8\" class=\"data row11 col8\" >-0.15</td>\n",
       "                        <td id=\"T_aa9340dc_ddbe_11ed_b33e_3cf01116e270row11_col9\" class=\"data row11 col9\" >0.03</td>\n",
       "                        <td id=\"T_aa9340dc_ddbe_11ed_b33e_3cf01116e270row11_col10\" class=\"data row11 col10\" >0.27</td>\n",
       "                        <td id=\"T_aa9340dc_ddbe_11ed_b33e_3cf01116e270row11_col11\" class=\"data row11 col11\" >1.00</td>\n",
       "                        <td id=\"T_aa9340dc_ddbe_11ed_b33e_3cf01116e270row11_col12\" class=\"data row11 col12\" >-0.14</td>\n",
       "                        <td id=\"T_aa9340dc_ddbe_11ed_b33e_3cf01116e270row11_col13\" class=\"data row11 col13\" >0.05</td>\n",
       "                        <td id=\"T_aa9340dc_ddbe_11ed_b33e_3cf01116e270row11_col14\" class=\"data row11 col14\" >-0.09</td>\n",
       "            </tr>\n",
       "            <tr>\n",
       "                        <th id=\"T_aa9340dc_ddbe_11ed_b33e_3cf01116e270level0_row12\" class=\"row_heading level0 row12\" >long</th>\n",
       "                        <td id=\"T_aa9340dc_ddbe_11ed_b33e_3cf01116e270row12_col0\" class=\"data row12 col0\" >0.02</td>\n",
       "                        <td id=\"T_aa9340dc_ddbe_11ed_b33e_3cf01116e270row12_col1\" class=\"data row12 col1\" >0.02</td>\n",
       "                        <td id=\"T_aa9340dc_ddbe_11ed_b33e_3cf01116e270row12_col2\" class=\"data row12 col2\" >0.13</td>\n",
       "                        <td id=\"T_aa9340dc_ddbe_11ed_b33e_3cf01116e270row12_col3\" class=\"data row12 col3\" >0.15</td>\n",
       "                        <td id=\"T_aa9340dc_ddbe_11ed_b33e_3cf01116e270row12_col4\" class=\"data row12 col4\" >0.24</td>\n",
       "                        <td id=\"T_aa9340dc_ddbe_11ed_b33e_3cf01116e270row12_col5\" class=\"data row12 col5\" >0.23</td>\n",
       "                        <td id=\"T_aa9340dc_ddbe_11ed_b33e_3cf01116e270row12_col6\" class=\"data row12 col6\" >0.13</td>\n",
       "                        <td id=\"T_aa9340dc_ddbe_11ed_b33e_3cf01116e270row12_col7\" class=\"data row12 col7\" >0.34</td>\n",
       "                        <td id=\"T_aa9340dc_ddbe_11ed_b33e_3cf01116e270row12_col8\" class=\"data row12 col8\" >0.41</td>\n",
       "                        <td id=\"T_aa9340dc_ddbe_11ed_b33e_3cf01116e270row12_col9\" class=\"data row12 col9\" >-0.07</td>\n",
       "                        <td id=\"T_aa9340dc_ddbe_11ed_b33e_3cf01116e270row12_col10\" class=\"data row12 col10\" >-0.56</td>\n",
       "                        <td id=\"T_aa9340dc_ddbe_11ed_b33e_3cf01116e270row12_col11\" class=\"data row12 col11\" >-0.14</td>\n",
       "                        <td id=\"T_aa9340dc_ddbe_11ed_b33e_3cf01116e270row12_col12\" class=\"data row12 col12\" >1.00</td>\n",
       "                        <td id=\"T_aa9340dc_ddbe_11ed_b33e_3cf01116e270row12_col13\" class=\"data row12 col13\" >0.34</td>\n",
       "                        <td id=\"T_aa9340dc_ddbe_11ed_b33e_3cf01116e270row12_col14\" class=\"data row12 col14\" >0.26</td>\n",
       "            </tr>\n",
       "            <tr>\n",
       "                        <th id=\"T_aa9340dc_ddbe_11ed_b33e_3cf01116e270level0_row13\" class=\"row_heading level0 row13\" >sqft_living15</th>\n",
       "                        <td id=\"T_aa9340dc_ddbe_11ed_b33e_3cf01116e270row13_col0\" class=\"data row13 col0\" >-0.00</td>\n",
       "                        <td id=\"T_aa9340dc_ddbe_11ed_b33e_3cf01116e270row13_col1\" class=\"data row13 col1\" >0.59</td>\n",
       "                        <td id=\"T_aa9340dc_ddbe_11ed_b33e_3cf01116e270row13_col2\" class=\"data row13 col2\" >0.39</td>\n",
       "                        <td id=\"T_aa9340dc_ddbe_11ed_b33e_3cf01116e270row13_col3\" class=\"data row13 col3\" >0.50</td>\n",
       "                        <td id=\"T_aa9340dc_ddbe_11ed_b33e_3cf01116e270row13_col4\" class=\"data row13 col4\" >0.76</td>\n",
       "                        <td id=\"T_aa9340dc_ddbe_11ed_b33e_3cf01116e270row13_col5\" class=\"data row13 col5\" >0.14</td>\n",
       "                        <td id=\"T_aa9340dc_ddbe_11ed_b33e_3cf01116e270row13_col6\" class=\"data row13 col6\" >0.28</td>\n",
       "                        <td id=\"T_aa9340dc_ddbe_11ed_b33e_3cf01116e270row13_col7\" class=\"data row13 col7\" >0.73</td>\n",
       "                        <td id=\"T_aa9340dc_ddbe_11ed_b33e_3cf01116e270row13_col8\" class=\"data row13 col8\" >0.33</td>\n",
       "                        <td id=\"T_aa9340dc_ddbe_11ed_b33e_3cf01116e270row13_col9\" class=\"data row13 col9\" >-0.00</td>\n",
       "                        <td id=\"T_aa9340dc_ddbe_11ed_b33e_3cf01116e270row13_col10\" class=\"data row13 col10\" >-0.28</td>\n",
       "                        <td id=\"T_aa9340dc_ddbe_11ed_b33e_3cf01116e270row13_col11\" class=\"data row13 col11\" >0.05</td>\n",
       "                        <td id=\"T_aa9340dc_ddbe_11ed_b33e_3cf01116e270row13_col12\" class=\"data row13 col12\" >0.34</td>\n",
       "                        <td id=\"T_aa9340dc_ddbe_11ed_b33e_3cf01116e270row13_col13\" class=\"data row13 col13\" >1.00</td>\n",
       "                        <td id=\"T_aa9340dc_ddbe_11ed_b33e_3cf01116e270row13_col14\" class=\"data row13 col14\" >0.18</td>\n",
       "            </tr>\n",
       "            <tr>\n",
       "                        <th id=\"T_aa9340dc_ddbe_11ed_b33e_3cf01116e270level0_row14\" class=\"row_heading level0 row14\" >sqft_lot15</th>\n",
       "                        <td id=\"T_aa9340dc_ddbe_11ed_b33e_3cf01116e270row14_col0\" class=\"data row14 col0\" >-0.14</td>\n",
       "                        <td id=\"T_aa9340dc_ddbe_11ed_b33e_3cf01116e270row14_col1\" class=\"data row14 col1\" >0.08</td>\n",
       "                        <td id=\"T_aa9340dc_ddbe_11ed_b33e_3cf01116e270row14_col2\" class=\"data row14 col2\" >0.03</td>\n",
       "                        <td id=\"T_aa9340dc_ddbe_11ed_b33e_3cf01116e270row14_col3\" class=\"data row14 col3\" >0.09</td>\n",
       "                        <td id=\"T_aa9340dc_ddbe_11ed_b33e_3cf01116e270row14_col4\" class=\"data row14 col4\" >0.18</td>\n",
       "                        <td id=\"T_aa9340dc_ddbe_11ed_b33e_3cf01116e270row14_col5\" class=\"data row14 col5\" >0.72</td>\n",
       "                        <td id=\"T_aa9340dc_ddbe_11ed_b33e_3cf01116e270row14_col6\" class=\"data row14 col6\" >-0.01</td>\n",
       "                        <td id=\"T_aa9340dc_ddbe_11ed_b33e_3cf01116e270row14_col7\" class=\"data row14 col7\" >0.20</td>\n",
       "                        <td id=\"T_aa9340dc_ddbe_11ed_b33e_3cf01116e270row14_col8\" class=\"data row14 col8\" >0.07</td>\n",
       "                        <td id=\"T_aa9340dc_ddbe_11ed_b33e_3cf01116e270row14_col9\" class=\"data row14 col9\" >0.00</td>\n",
       "                        <td id=\"T_aa9340dc_ddbe_11ed_b33e_3cf01116e270row14_col10\" class=\"data row14 col10\" >-0.15</td>\n",
       "                        <td id=\"T_aa9340dc_ddbe_11ed_b33e_3cf01116e270row14_col11\" class=\"data row14 col11\" >-0.09</td>\n",
       "                        <td id=\"T_aa9340dc_ddbe_11ed_b33e_3cf01116e270row14_col12\" class=\"data row14 col12\" >0.26</td>\n",
       "                        <td id=\"T_aa9340dc_ddbe_11ed_b33e_3cf01116e270row14_col13\" class=\"data row14 col13\" >0.18</td>\n",
       "                        <td id=\"T_aa9340dc_ddbe_11ed_b33e_3cf01116e270row14_col14\" class=\"data row14 col14\" >1.00</td>\n",
       "            </tr>\n",
       "    </tbody></table>"
      ],
      "text/plain": [
       "<pandas.io.formats.style.Styler at 0x7f4200af7910>"
      ]
     },
     "execution_count": 98,
     "metadata": {},
     "output_type": "execute_result"
    }
   ],
   "source": [
    "#plot correlation heatmap\n",
    "kc_hses_correlation = kc_hses.corr().style.background_gradient(cmap='coolwarm').set_precision(2)\n",
    "kc_hses_correlation"
   ]
  },
  {
   "cell_type": "markdown",
   "id": "3052fc08",
   "metadata": {},
   "source": [
    "We see Strong positive correlation between `price` and the features: `bathrooms`, `sqft_living` and `sqft_above`, "
   ]
  },
  {
   "cell_type": "code",
   "execution_count": 99,
   "id": "f95aa59e",
   "metadata": {},
   "outputs": [
    {
     "name": "stdout",
     "output_type": "stream",
     "text": [
      "<class 'pandas.core.frame.DataFrame'>\n",
      "RangeIndex: 21597 entries, 0 to 21596\n",
      "Data columns (total 14 columns):\n",
      " #   Column         Non-Null Count  Dtype  \n",
      "---  ------         --------------  -----  \n",
      " 0   price          21597 non-null  float64\n",
      " 1   bedrooms       21597 non-null  int64  \n",
      " 2   bathrooms      21597 non-null  int64  \n",
      " 3   sqft_living    21597 non-null  int64  \n",
      " 4   sqft_lot       21597 non-null  int64  \n",
      " 5   waterfront     19221 non-null  object \n",
      " 6   view           21534 non-null  object \n",
      " 7   condition      21597 non-null  object \n",
      " 8   grade          21597 non-null  object \n",
      " 9   sqft_above     21597 non-null  int64  \n",
      " 10  sqft_basement  21597 non-null  object \n",
      " 11  yr_built       21597 non-null  int64  \n",
      " 12  yr_renovated   17755 non-null  float64\n",
      " 13  zipcode        21597 non-null  int64  \n",
      "dtypes: float64(2), int64(7), object(5)\n",
      "memory usage: 2.3+ MB\n"
     ]
    }
   ],
   "source": [
    "#dropping the following columns id, date, lat, sqft_living15, zipcode, long, floors, sqft_lot15\n",
    "cols_to_drop = ['id', 'date', 'lat','sqft_living15','long', 'floors', 'sqft_lot15']\n",
    "kc_hses.drop(cols_to_drop, axis=1, inplace=True)\n",
    "kc_hses.info()"
   ]
  },
  {
   "cell_type": "markdown",
   "id": "e8ae8569",
   "metadata": {},
   "source": [
    "#### Observation\n",
    "* The above columns were dropped because they don't have strong correlation with the price that is to say ,they are not the high determinant influencing the houses' prices"
   ]
  },
  {
   "cell_type": "markdown",
   "id": "5fc605b2",
   "metadata": {},
   "source": [
    "`sqft_above` is strongly correlated with `sqft_living`. This may be because living space are typycally located above ground. In this case we may drop `sqft_above`."
   ]
  },
  {
   "cell_type": "code",
   "execution_count": 100,
   "id": "f0981032",
   "metadata": {},
   "outputs": [
    {
     "data": {
      "text/plain": [
       "Index(['price', 'bedrooms', 'bathrooms', 'sqft_living', 'sqft_lot',\n",
       "       'waterfront', 'view', 'condition', 'grade', 'sqft_basement', 'yr_built',\n",
       "       'yr_renovated', 'zipcode'],\n",
       "      dtype='object')"
      ]
     },
     "execution_count": 100,
     "metadata": {},
     "output_type": "execute_result"
    }
   ],
   "source": [
    "kc_hses.drop('sqft_above', axis=1, inplace=True)\n",
    "kc_hses.columns"
   ]
  },
  {
   "cell_type": "code",
   "execution_count": null,
   "id": "eebefc5d",
   "metadata": {},
   "outputs": [],
   "source": []
  },
  {
   "cell_type": "code",
   "execution_count": 124,
   "id": "14829ea4",
   "metadata": {},
   "outputs": [],
   "source": [
    "# Function to describe the data and plot the histogram, kde and boxplot of the data\n",
    "def desc_and_plot(df, col, title, bins_='auto'):\n",
    "    ''' Describes and Plots the distribution of a column in a dataframe as a histogram, kde and boxplot '''\n",
    "    print(df[col].describe())\n",
    "    # creating a figure composed of two matplotlib.Axes objects (ax_box and ax_hist)\n",
    "    f, (ax_box, ax_hist) = plt.subplots(2, sharex=True, gridspec_kw={\"height_ratios\": (.15, .85)}, figsize=(10, 5))\n",
    "    \n",
    "    # assign a graph to each ax\n",
    "    sns.boxplot(df[col], ax=ax_box, color='lightgreen')\n",
    "    sns.histplot(data=df, x=col, ax=ax_hist, kde=True, color='lightgreen', bins=bins_, edgecolor='black')\n",
    "    plt.suptitle(title)\n",
    "    plt.tight_layout();"
   ]
  },
  {
   "cell_type": "code",
   "execution_count": 125,
   "id": "d350395b",
   "metadata": {},
   "outputs": [
    {
     "name": "stdout",
     "output_type": "stream",
     "text": [
      "count    21597.000000\n",
      "mean      1970.999676\n",
      "std         29.375234\n",
      "min       1900.000000\n",
      "25%       1951.000000\n",
      "50%       1975.000000\n",
      "75%       1997.000000\n",
      "max       2015.000000\n",
      "Name: yr_built, dtype: float64\n"
     ]
    },
    {
     "data": {
      "image/png": "[encoded data removed]",
      "text/plain": [
       "<Figure size 720x360 with 2 Axes>"
      ]
     },
     "metadata": {},
     "output_type": "display_data"
    }
   ],
   "source": [
    "# Visualise the data distribution\n",
    "desc_and_plot(kc_hses, 'yr_built', 'Year Built Column Data Distribution', 115)"
   ]
  },
  {
   "cell_type": "markdown",
   "id": "1661658c",
   "metadata": {},
   "source": [
    "#### Observation\n",
    "* From the distributions above we can see that the data is slightly skewed to the left. \n",
    "* The oldest house in the dataset was built in 1900, and the newest house in the dataset was built in 2015.\n",
    "* The mean year the houses in the dataset were built is 1971, and the median year the houses in the dataset were built is 1975. \n",
    "* The standard deviation of the year built column is 29.37"
   ]
  },
  {
   "cell_type": "code",
   "execution_count": 126,
   "id": "d001e787",
   "metadata": {},
   "outputs": [
    {
     "data": {
      "image/png": "[encoded data removed]",
      "text/plain": [
       "<Figure size 576x396 with 1 Axes>"
      ]
     },
     "metadata": {},
     "output_type": "display_data"
    }
   ],
   "source": [
    "#plot barchart of 'condition' against 'year built'\n",
    "sns.lineplot(x='yr_built', y='condition', data=kc_hses)\n",
    "plt.show();"
   ]
  },
  {
   "cell_type": "markdown",
   "id": "c440cefc",
   "metadata": {},
   "source": [
    "#### Observation\n",
    "* For most houses built in the $20th$ century *i.e* 1900-early 1990s houses were in Very good condition. \n",
    "* For most houses built from the begining of the $21st$ century, the condition is Average. There seems to be a decline in condition of houses built over time"
   ]
  },
  {
   "cell_type": "markdown",
   "id": "2f93a798",
   "metadata": {},
   "source": [
    "#### Bedrooms"
   ]
  },
  {
   "cell_type": "code",
   "execution_count": 128,
   "id": "25deaf7a",
   "metadata": {},
   "outputs": [
    {
     "name": "stdout",
     "output_type": "stream",
     "text": [
      "count    21597.000000\n",
      "mean         3.373200\n",
      "std          0.926299\n",
      "min          1.000000\n",
      "25%          3.000000\n",
      "50%          3.000000\n",
      "75%          4.000000\n",
      "max         33.000000\n",
      "Name: bedrooms, dtype: float64\n"
     ]
    },
    {
     "data": {
      "image/png": "[encoded data removed]",
      "text/plain": [
       "<Figure size 720x360 with 2 Axes>"
      ]
     },
     "metadata": {},
     "output_type": "display_data"
    }
   ],
   "source": [
    "#plot bedrooms distribution\n",
    "desc_and_plot(kc_hses, 'bedrooms', 'Bedrooms Data Distribution', 33)"
   ]
  },
  {
   "cell_type": "code",
   "execution_count": 136,
   "id": "6a1646d7",
   "metadata": {},
   "outputs": [
    {
     "data": {
      "text/plain": [
       "3     9824\n",
       "4     6882\n",
       "2     2760\n",
       "5     1601\n",
       "6      272\n",
       "1      196\n",
       "7       38\n",
       "8       13\n",
       "9        6\n",
       "10       3\n",
       "11       1\n",
       "33       1\n",
       "Name: bedrooms, dtype: int64"
      ]
     },
     "execution_count": 136,
     "metadata": {},
     "output_type": "execute_result"
    }
   ],
   "source": [
    "kc_hses['bedrooms'].value_counts()"
   ]
  },
  {
   "cell_type": "markdown",
   "id": "57ef51ae",
   "metadata": {},
   "source": [
    "#### Observation\n",
    "\n",
    "* The maximum number of bedrooms in the dataset in 33\n",
    "* The minimum number of bedrooms in the dataset is 1\n",
    "* The mean number of mean number of bedrooms is 3.37 and the median number of bedrooms is 3.\n",
    "* The standard deviation of the bedroom column is 0.93"
   ]
  },
  {
   "cell_type": "markdown",
   "id": "5905d7a2",
   "metadata": {},
   "source": [
    "#### 2.2 Univatiate analysis\n",
    "In this section, we'll explore each column in the dataset to see the distributions of features and obtain some useful insights. The main two parts in this section are:\n",
    "\n",
    "Categorical Columns\n",
    "Numerical Columns\n",
    "2.2.1 Categorical Columns\n",
    "There are 5 Categorical Columns in the dataset that are:\n",
    "\n",
    "* id\n",
    "* waterfront\n",
    "* view\n",
    "* condition\n",
    "* grade\n",
    "* zipcode\n",
    "\n",
    "We won't use id and zipcode since we have already dropped the"
   ]
  },
  {
   "cell_type": "code",
   "execution_count": null,
   "id": "8d9e3d80",
   "metadata": {},
   "outputs": [],
   "source": []
  },
  {
   "cell_type": "markdown",
   "id": "d5e8e9d5",
   "metadata": {},
   "source": [
    "## Data Preparation"
   ]
  },
  {
   "cell_type": "code",
   "execution_count": null,
   "id": "6a3fe4b0",
   "metadata": {},
   "outputs": [],
   "source": []
  },
  {
   "cell_type": "markdown",
   "id": "60d01a9e",
   "metadata": {},
   "source": [
    "## Analysis and Modeling"
   ]
  },
  {
   "cell_type": "code",
   "execution_count": null,
   "id": "cb22bbcf",
   "metadata": {},
   "outputs": [],
   "source": []
  },
  {
   "cell_type": "markdown",
   "id": "0cfc0ec5",
   "metadata": {},
   "source": [
    "## Results "
   ]
  },
  {
   "cell_type": "code",
   "execution_count": null,
   "id": "3b61b392",
   "metadata": {},
   "outputs": [],
   "source": []
  },
  {
   "cell_type": "markdown",
   "id": "a3ca3a3a",
   "metadata": {},
   "source": [
    "## Conclusion"
   ]
  },
  {
   "cell_type": "code",
   "execution_count": null,
   "id": "843bfa79",
   "metadata": {},
   "outputs": [],
   "source": []
  },
  {
   "cell_type": "markdown",
   "id": "405049ec",
   "metadata": {},
   "source": [
    "## Recommendations"
   ]
  },
  {
   "cell_type": "code",
   "execution_count": null,
   "id": "8982f499",
   "metadata": {},
   "outputs": [],
   "source": []
  }
 ],
 "metadata": {
  "kernelspec": {
   "display_name": "Python (learn-env)",
   "language": "python",
   "name": "learn-env"
  },
  "language_info": {
   "codemirror_mode": {
    "name": "ipython",
    "version": 3
   },
   "file_extension": ".py",
   "mimetype": "text/x-python",
   "name": "python",
   "nbconvert_exporter": "python",
   "pygments_lexer": "ipython3",
   "version": "3.8.5"
  }
 },
 "nbformat": 4,
 "nbformat_minor": 5
}
